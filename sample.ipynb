{
 "cells": [
  {
   "cell_type": "markdown",
   "id": "af4a7a78",
   "metadata": {},
   "source": [
    "علی اکبر احراری- 4003613001"
   ]
  },
  {
   "cell_type": "markdown",
   "id": "744420d7",
   "metadata": {},
   "source": [
    "<h2 align=right style=\"line-height:200%;font-family:vazir;color:#0099cc\">\n",
    "<font face=\"vazir\" color=\"#0099cc\">\n",
    "مقدمه \n",
    "</font>\n",
    "</h2>\n",
    "\n",
    "<p dir=rtl style=\"direction: rtl; text-align: justify; line-height:200%; font-family:vazir; font-size:medium\">\n",
    "<font face=\"vazir\" size=3>\n",
    "در این پروژه می‌خواهیم به پیش‌بینی محدودیت اعتباری برای مشتریان بر اساس اطلاعات جمعیتی و مالی آن‌ها بپردازیم. برای این کار، نیاز به برداشتن سلسله گام‌هایی می‌باشد که به ارائه دقیق آن‌ها می‌پردازم.\n",
    "</font>\n",
    "</p>"
   ]
  },
  {
   "cell_type": "markdown",
   "id": "1f797520",
   "metadata": {},
   "source": [
    "<h2 align=right style=\"line-height:200%;font-family:vazir;color:#0099cc\">\n",
    "<font face=\"vazir\" color=\"#0099cc\">\n",
    "تعریف مسئله\n",
    "</font>\n",
    "</h2>\n",
    "\n",
    "<p dir=rtl style=\"direction: rtl; text-align: justify; line-height:200%; font-family:vazir; font-size:medium\">\n",
    "<font face=\"vazir\" size=3>همانطور که اشاره شد، مسئله، پیش‌بینی محدودیت اعتباری برای مشتریان با استفاده از ویژگی‌های جمعیتی و مالی آن‌ها می‌باشد. همچنین که معیار و نشان دهنده میزان موفقیت ما در این مسئله، دستیابی به یک سطح معین از دقت در پیش‌بینی محدودیت اعتباری است.\n",
    "</font>\n",
    "</p>"
   ]
  },
  {
   "cell_type": "markdown",
   "id": "cac74507",
   "metadata": {},
   "source": [
    "<h2 align=right style=\"line-height:200%;font-family:vazir;color:#0099cc\">\n",
    "<font face=\"vazir\" color=\"#0099cc\">\n",
    "وارد کردن کتابخانه‌های مورد نیاز\n",
    "</font>\n",
    "</h2>\n",
    "\n",
    "<p dir=rtl style=\"direction: rtl; text-align: justify; line-height:200%; font-family:vazir; font-size:medium\">\n",
    "<font face=\"vazir\" size=3>\n",
    "در ابتدا به وارد کردن کتابخانه های مورد نیاز در این پروژه می پردازیم\n",
    "</font>\n",
    "</p>"
   ]
  },
  {
   "cell_type": "code",
   "id": "fbc121e30a2defb3",
   "metadata": {
    "ExecuteTime": {
     "end_time": "2024-05-27T20:20:21.218629Z",
     "start_time": "2024-05-27T20:20:19.325628Z"
    }
   },
   "source": [
    "import pandas as pd\n",
    "import numpy as np\n",
    "from sklearn.model_selection import train_test_split\n",
    "from sklearn.linear_model import LinearRegression\n",
    "from sklearn.metrics import mean_squared_error\n",
    "from sklearn.metrics import r2_score\n",
    "import matplotlib.pyplot as plt\n",
    "from sklearn.ensemble import RandomForestRegressor\n",
    "from sklearn.datasets import make_regression\n"
   ],
   "outputs": [],
   "execution_count": 1
  },
  {
   "cell_type": "markdown",
   "id": "5eec07983bc7202e",
   "metadata": {},
   "source": [
    "</h2>\n",
    "\n",
    "<p dir=rtl style=\"direction: rtl; text-align: justify; line-height:200%; font-family:vazir; font-size:medium\">\n",
    "<font face=\"vazir\" size=3>\n",
    "گام نخست این مسأله، خواندن اطلاعات از روی فایل\" CreditPrediction.csv\" که آن را در فولدر /data/ قرار داده‌ایم می‌باشد. برای راحتی بیشتر از کتابخانه pandas و دستور pd.read_csv() استفاده می‌کنیم و یک دیتافریم تشکیل می‌دهیم. این به ما امکان می‌دهد که به سادگی داده را شخصی سازی کرده و عملیاتی مانند فیلتر کردن، مرتب کردن، و گروه‌بندی را انجام دهیم. </font>\n",
    "</p>"
   ]
  },
  {
   "cell_type": "code",
   "id": "4cc74a6470ce928f",
   "metadata": {
    "ExecuteTime": {
     "end_time": "2024-05-27T20:20:21.266241Z",
     "start_time": "2024-05-27T20:20:21.221036Z"
    }
   },
   "source": [
    "data = pd.read_csv('data/CreditPrediction.csv')\n",
    "type(data)"
   ],
   "outputs": [
    {
     "data": {
      "text/plain": [
       "pandas.core.frame.DataFrame"
      ]
     },
     "execution_count": 2,
     "metadata": {},
     "output_type": "execute_result"
    }
   ],
   "execution_count": 2
  },
  {
   "cell_type": "markdown",
   "id": "5241d904bbec7c87",
   "metadata": {},
   "source": [
    "<p dir=rtl style=\"direction: rtl; text-align: justify; line-height:200%; font-family:vazir; font-size:medium\">\n",
    "<font face=\"vazir\" size=3>\n",
    "\tحال می‌توانیم با استفاده از دستور head()، 5 سطر اول این دیتافریم را بخوانیم.\n",
    "</font>\n",
    "</p>\n"
   ]
  },
  {
   "cell_type": "code",
   "id": "71f3f4987c0d0a17",
   "metadata": {
    "ExecuteTime": {
     "end_time": "2024-05-27T20:20:21.297899Z",
     "start_time": "2024-05-27T20:20:21.267367Z"
    }
   },
   "source": [
    "data.head()"
   ],
   "outputs": [
    {
     "data": {
      "text/plain": [
       "   CLIENTNUM  Customer_Age Gender  Dependent_count Education_Level  \\\n",
       "0  768805383          45.0      M                3     High School   \n",
       "1  818770008          49.0      F                5        Graduate   \n",
       "2  713982108          51.0      M                3        Graduate   \n",
       "3  769911858          40.0      F                4     High School   \n",
       "4  709106358          40.0      M                3      Uneducated   \n",
       "\n",
       "  Marital_Status Income_Category Card_Category  Months_on_book  \\\n",
       "0        Married     $60K - $80K          Blue            39.0   \n",
       "1            NaN  Less than $40K          Blue            44.0   \n",
       "2        Married    $80K - $120K          Blue            36.0   \n",
       "3            NaN  Less than $40K          Blue            34.0   \n",
       "4        Married     $60K - $80K           NaN            21.0   \n",
       "\n",
       "   Total_Relationship_Count  Months_Inactive_12_mon  Contacts_Count_12_mon  \\\n",
       "0                       5.0                       1                      3   \n",
       "1                       6.0                       1                      2   \n",
       "2                       4.0                       1                      0   \n",
       "3                       3.0                       4                      1   \n",
       "4                       5.0                       1                      0   \n",
       "\n",
       "   Credit_Limit  Total_Revolving_Bal  Total_Amt_Chng_Q4_Q1  Total_Trans_Amt  \\\n",
       "0       12691.0                  777                 1.335             1144   \n",
       "1        8256.0                  864                 1.541             1291   \n",
       "2        3418.0                    0                 2.594             1887   \n",
       "3        3313.0                 2517                 1.405             1171   \n",
       "4        4716.0                    0                 2.175              816   \n",
       "\n",
       "   Total_Trans_Ct  Total_Ct_Chng_Q4_Q1  Avg_Utilization_Ratio  Unnamed: 19  \n",
       "0              42                1.625                  0.061          NaN  \n",
       "1              33                3.714                  0.105          NaN  \n",
       "2              20                2.333                  0.000          NaN  \n",
       "3              20                2.333                  0.760          NaN  \n",
       "4              28                2.500                  0.000          NaN  "
      ],
      "text/html": [
       "<div>\n",
       "<style scoped>\n",
       "    .dataframe tbody tr th:only-of-type {\n",
       "        vertical-align: middle;\n",
       "    }\n",
       "\n",
       "    .dataframe tbody tr th {\n",
       "        vertical-align: top;\n",
       "    }\n",
       "\n",
       "    .dataframe thead th {\n",
       "        text-align: right;\n",
       "    }\n",
       "</style>\n",
       "<table border=\"1\" class=\"dataframe\">\n",
       "  <thead>\n",
       "    <tr style=\"text-align: right;\">\n",
       "      <th></th>\n",
       "      <th>CLIENTNUM</th>\n",
       "      <th>Customer_Age</th>\n",
       "      <th>Gender</th>\n",
       "      <th>Dependent_count</th>\n",
       "      <th>Education_Level</th>\n",
       "      <th>Marital_Status</th>\n",
       "      <th>Income_Category</th>\n",
       "      <th>Card_Category</th>\n",
       "      <th>Months_on_book</th>\n",
       "      <th>Total_Relationship_Count</th>\n",
       "      <th>Months_Inactive_12_mon</th>\n",
       "      <th>Contacts_Count_12_mon</th>\n",
       "      <th>Credit_Limit</th>\n",
       "      <th>Total_Revolving_Bal</th>\n",
       "      <th>Total_Amt_Chng_Q4_Q1</th>\n",
       "      <th>Total_Trans_Amt</th>\n",
       "      <th>Total_Trans_Ct</th>\n",
       "      <th>Total_Ct_Chng_Q4_Q1</th>\n",
       "      <th>Avg_Utilization_Ratio</th>\n",
       "      <th>Unnamed: 19</th>\n",
       "    </tr>\n",
       "  </thead>\n",
       "  <tbody>\n",
       "    <tr>\n",
       "      <th>0</th>\n",
       "      <td>768805383</td>\n",
       "      <td>45.0</td>\n",
       "      <td>M</td>\n",
       "      <td>3</td>\n",
       "      <td>High School</td>\n",
       "      <td>Married</td>\n",
       "      <td>$60K - $80K</td>\n",
       "      <td>Blue</td>\n",
       "      <td>39.0</td>\n",
       "      <td>5.0</td>\n",
       "      <td>1</td>\n",
       "      <td>3</td>\n",
       "      <td>12691.0</td>\n",
       "      <td>777</td>\n",
       "      <td>1.335</td>\n",
       "      <td>1144</td>\n",
       "      <td>42</td>\n",
       "      <td>1.625</td>\n",
       "      <td>0.061</td>\n",
       "      <td>NaN</td>\n",
       "    </tr>\n",
       "    <tr>\n",
       "      <th>1</th>\n",
       "      <td>818770008</td>\n",
       "      <td>49.0</td>\n",
       "      <td>F</td>\n",
       "      <td>5</td>\n",
       "      <td>Graduate</td>\n",
       "      <td>NaN</td>\n",
       "      <td>Less than $40K</td>\n",
       "      <td>Blue</td>\n",
       "      <td>44.0</td>\n",
       "      <td>6.0</td>\n",
       "      <td>1</td>\n",
       "      <td>2</td>\n",
       "      <td>8256.0</td>\n",
       "      <td>864</td>\n",
       "      <td>1.541</td>\n",
       "      <td>1291</td>\n",
       "      <td>33</td>\n",
       "      <td>3.714</td>\n",
       "      <td>0.105</td>\n",
       "      <td>NaN</td>\n",
       "    </tr>\n",
       "    <tr>\n",
       "      <th>2</th>\n",
       "      <td>713982108</td>\n",
       "      <td>51.0</td>\n",
       "      <td>M</td>\n",
       "      <td>3</td>\n",
       "      <td>Graduate</td>\n",
       "      <td>Married</td>\n",
       "      <td>$80K - $120K</td>\n",
       "      <td>Blue</td>\n",
       "      <td>36.0</td>\n",
       "      <td>4.0</td>\n",
       "      <td>1</td>\n",
       "      <td>0</td>\n",
       "      <td>3418.0</td>\n",
       "      <td>0</td>\n",
       "      <td>2.594</td>\n",
       "      <td>1887</td>\n",
       "      <td>20</td>\n",
       "      <td>2.333</td>\n",
       "      <td>0.000</td>\n",
       "      <td>NaN</td>\n",
       "    </tr>\n",
       "    <tr>\n",
       "      <th>3</th>\n",
       "      <td>769911858</td>\n",
       "      <td>40.0</td>\n",
       "      <td>F</td>\n",
       "      <td>4</td>\n",
       "      <td>High School</td>\n",
       "      <td>NaN</td>\n",
       "      <td>Less than $40K</td>\n",
       "      <td>Blue</td>\n",
       "      <td>34.0</td>\n",
       "      <td>3.0</td>\n",
       "      <td>4</td>\n",
       "      <td>1</td>\n",
       "      <td>3313.0</td>\n",
       "      <td>2517</td>\n",
       "      <td>1.405</td>\n",
       "      <td>1171</td>\n",
       "      <td>20</td>\n",
       "      <td>2.333</td>\n",
       "      <td>0.760</td>\n",
       "      <td>NaN</td>\n",
       "    </tr>\n",
       "    <tr>\n",
       "      <th>4</th>\n",
       "      <td>709106358</td>\n",
       "      <td>40.0</td>\n",
       "      <td>M</td>\n",
       "      <td>3</td>\n",
       "      <td>Uneducated</td>\n",
       "      <td>Married</td>\n",
       "      <td>$60K - $80K</td>\n",
       "      <td>NaN</td>\n",
       "      <td>21.0</td>\n",
       "      <td>5.0</td>\n",
       "      <td>1</td>\n",
       "      <td>0</td>\n",
       "      <td>4716.0</td>\n",
       "      <td>0</td>\n",
       "      <td>2.175</td>\n",
       "      <td>816</td>\n",
       "      <td>28</td>\n",
       "      <td>2.500</td>\n",
       "      <td>0.000</td>\n",
       "      <td>NaN</td>\n",
       "    </tr>\n",
       "  </tbody>\n",
       "</table>\n",
       "</div>"
      ]
     },
     "execution_count": 3,
     "metadata": {},
     "output_type": "execute_result"
    }
   ],
   "execution_count": 3
  },
  {
   "cell_type": "markdown",
   "id": "b4351eec",
   "metadata": {},
   "source": [
    "<h2 align=right style=\"line-height:200%;font-family:vazir;color:#0099cc\">\n",
    "<font face=\"vazir\" color=\"#0099cc\">\n",
    "پیش پردازش داده ها\n",
    "</font>\n",
    "</h2>\n",
    "\n",
    "<p dir=rtl style=\"direction: rtl; text-align: justify; line-height:200%; font-family:vazir; font-size:medium\">\n",
    "<font face=\"vazir\" size=3>\n",
    "در این مرحله به آماده سازی داده ها جهت تحویل آنها به مدل و ادامه فرایند ساخت مدل می پردازیم.\n",
    "پیش پردازش داده ها تشکیل می شود از: \n",
    "مراحل پاکسازی داده: مدیریت مقادیر گم‌شده، حذف داده‌های تکراری و اصلاح ناسازگاری‌ها\n",
    "تکنیک‌های مهندسی ویژگی: تبدیل متغیرهای زبانه‌ای به نمایش‌های عددی، مقیاس‌بندی ویژگی‌های عددی\n",
    "روش‌های نرمال‌سازی/استانداردسازی استفاده شده: مقیاس‌بندی ویژگی‌ها به یک دامنه یا توزیع مشترک\n",
    "</font>\n",
    "</p>\n"
   ]
  },
  {
   "cell_type": "code",
   "id": "be9886155aa9f543",
   "metadata": {
    "ExecuteTime": {
     "end_time": "2024-05-27T20:20:21.329616Z",
     "start_time": "2024-05-27T20:20:21.297899Z"
    }
   },
   "source": [
    "data.info()"
   ],
   "outputs": [
    {
     "name": "stdout",
     "output_type": "stream",
     "text": [
      "<class 'pandas.core.frame.DataFrame'>\n",
      "RangeIndex: 10167 entries, 0 to 10166\n",
      "Data columns (total 20 columns):\n",
      " #   Column                    Non-Null Count  Dtype  \n",
      "---  ------                    --------------  -----  \n",
      " 0   CLIENTNUM                 10167 non-null  int64  \n",
      " 1   Customer_Age              10167 non-null  float64\n",
      " 2   Gender                    9968 non-null   object \n",
      " 3   Dependent_count           10167 non-null  int64  \n",
      " 4   Education_Level           10167 non-null  object \n",
      " 5   Marital_Status            8217 non-null   object \n",
      " 6   Income_Category           10167 non-null  object \n",
      " 7   Card_Category             8243 non-null   object \n",
      " 8   Months_on_book            9944 non-null   float64\n",
      " 9   Total_Relationship_Count  10147 non-null  float64\n",
      " 10  Months_Inactive_12_mon    10167 non-null  int64  \n",
      " 11  Contacts_Count_12_mon     10167 non-null  int64  \n",
      " 12  Credit_Limit              10167 non-null  float64\n",
      " 13  Total_Revolving_Bal       10167 non-null  int64  \n",
      " 14  Total_Amt_Chng_Q4_Q1      10167 non-null  float64\n",
      " 15  Total_Trans_Amt           10167 non-null  int64  \n",
      " 16  Total_Trans_Ct            10167 non-null  int64  \n",
      " 17  Total_Ct_Chng_Q4_Q1       10167 non-null  float64\n",
      " 18  Avg_Utilization_Ratio     10167 non-null  float64\n",
      " 19  Unnamed: 19               0 non-null      float64\n",
      "dtypes: float64(8), int64(7), object(5)\n",
      "memory usage: 1.6+ MB\n"
     ]
    }
   ],
   "execution_count": 4
  },
  {
   "cell_type": "markdown",
   "id": "b414980d",
   "metadata": {},
   "source": [
    "<p dir=rtl style=\"direction: rtl; text-align: justify; line-height:200%; font-family:vazir; font-size:medium\">\n",
    "<font face=\"vazir\" size=3>\n",
    "کار خود را با داده های گمشده آغاز می کنیم\n",
    "</font>\n",
    "</p>\n"
   ]
  },
  {
   "cell_type": "code",
   "id": "388bfc0d22b12bf6",
   "metadata": {
    "ExecuteTime": {
     "end_time": "2024-05-27T20:20:21.345302Z",
     "start_time": "2024-05-27T20:20:21.329616Z"
    }
   },
   "source": [
    "data.isnull().sum()"
   ],
   "outputs": [
    {
     "data": {
      "text/plain": [
       "CLIENTNUM                       0\n",
       "Customer_Age                    0\n",
       "Gender                        199\n",
       "Dependent_count                 0\n",
       "Education_Level                 0\n",
       "Marital_Status               1950\n",
       "Income_Category                 0\n",
       "Card_Category                1924\n",
       "Months_on_book                223\n",
       "Total_Relationship_Count       20\n",
       "Months_Inactive_12_mon          0\n",
       "Contacts_Count_12_mon           0\n",
       "Credit_Limit                    0\n",
       "Total_Revolving_Bal             0\n",
       "Total_Amt_Chng_Q4_Q1            0\n",
       "Total_Trans_Amt                 0\n",
       "Total_Trans_Ct                  0\n",
       "Total_Ct_Chng_Q4_Q1             0\n",
       "Avg_Utilization_Ratio           0\n",
       "Unnamed: 19                 10167\n",
       "dtype: int64"
      ]
     },
     "execution_count": 5,
     "metadata": {},
     "output_type": "execute_result"
    }
   ],
   "execution_count": 5
  },
  {
   "cell_type": "markdown",
   "id": "70ff5e2d",
   "metadata": {},
   "source": [
    "<p dir=rtl style=\"direction: rtl; text-align: justify; line-height:200%; font-family:vazir; font-size:medium\">\n",
    "<font face=\"vazir\" size=3>\n",
    "حال با توجه به تعداد داده های گمشده هر ویژگی می توان تصمیم مختلفی برای آن گرفت.\n",
    "به عنوان مثال در قطعه کد بعدی، کلاس هایی که بیش از 90 درصدشان خالی است را مشخص و حذف می کنیم.\n",
    "</font>\n",
    "</p>\n"
   ]
  },
  {
   "cell_type": "code",
   "id": "fe9dacdaee0dfe7",
   "metadata": {
    "ExecuteTime": {
     "end_time": "2024-05-27T20:20:21.361037Z",
     "start_time": "2024-05-27T20:20:21.346399Z"
    }
   },
   "source": [
    "missing_percentages = data.isnull().mean()\n",
    "column_to_delete = missing_percentages[missing_percentages > 0.9].index\n",
    "print(column_to_delete)"
   ],
   "outputs": [
    {
     "name": "stdout",
     "output_type": "stream",
     "text": [
      "Index(['Unnamed: 19'], dtype='object')\n"
     ]
    }
   ],
   "execution_count": 6
  },
  {
   "cell_type": "markdown",
   "id": "05c15497",
   "metadata": {},
   "source": [
    "<p dir=rtl style=\"direction: rtl; text-align: justify; line-height:200%; font-family:vazir; font-size:medium\">\n",
    "<font face=\"vazir\" size=3>\n",
    "کلاس clientnum که حاوی شماره آیدی مشتریان است، ارتباط خاصی با کلاس هدف ندارد پس می توانیم آن را در ابتدا حذف کنیم\n",
    "</font>\n",
    "</p>\n"
   ]
  },
  {
   "cell_type": "code",
   "id": "3caf58db7766ccbd",
   "metadata": {
    "ExecuteTime": {
     "end_time": "2024-05-27T20:20:21.376788Z",
     "start_time": "2024-05-27T20:20:21.361580Z"
    }
   },
   "source": [
    "data.drop(columns = ['Unnamed: 19', 'CLIENTNUM'], inplace = True)"
   ],
   "outputs": [],
   "execution_count": 7
  },
  {
   "cell_type": "markdown",
   "id": "f9c7951bec0c0d91",
   "metadata": {},
   "source": [
    "<p dir=rtl style=\"direction: rtl; text-align: justify; line-height:200%; font-family:vazir; font-size:medium\">\n",
    "<font face=\"vazir\" size=3>\n",
    "برای کلاس Gender این سیاست را درنظر می گیریم که مقدار های خالی را با مد این کلاس پر می کنیم.(به دلیل حجم گمشده کم این دیتا)</font>\n",
    "</p>\n"
   ]
  },
  {
   "cell_type": "code",
   "id": "126d3ddecdd5f03f",
   "metadata": {
    "ExecuteTime": {
     "end_time": "2024-05-27T20:20:21.392115Z",
     "start_time": "2024-05-27T20:20:21.376788Z"
    }
   },
   "source": [
    "# Calculate the mode (most frequent category) of the \"Gender\" column\n",
    "mode_gender = data['Gender'].mode().iloc[0]\n",
    "\n",
    "# Fill missing values with the mode\n",
    "data['Gender'] = data['Gender'].fillna(mode_gender)"
   ],
   "outputs": [],
   "execution_count": 8
  },
  {
   "cell_type": "code",
   "id": "84636aaf544a9f17",
   "metadata": {
    "ExecuteTime": {
     "end_time": "2024-05-27T20:20:21.407424Z",
     "start_time": "2024-05-27T20:20:21.393373Z"
    }
   },
   "source": [
    "print(data['Marital_Status'].value_counts())"
   ],
   "outputs": [
    {
     "name": "stdout",
     "output_type": "stream",
     "text": [
      "Married     3808\n",
      "Single      3192\n",
      "Unknown      621\n",
      "Divorced     596\n",
      "Name: Marital_Status, dtype: int64\n"
     ]
    }
   ],
   "execution_count": 9
  },
  {
   "cell_type": "code",
   "id": "6944ca631794ab1c",
   "metadata": {
    "ExecuteTime": {
     "end_time": "2024-05-27T20:20:21.423284Z",
     "start_time": "2024-05-27T20:20:21.410156Z"
    }
   },
   "source": [
    "mode_Marital_Status = data['Marital_Status'].mode()[0]\n",
    "data['Marital_Status'] = data['Marital_Status'].fillna(mode_Marital_Status)"
   ],
   "outputs": [],
   "execution_count": 10
  },
  {
   "cell_type": "markdown",
   "id": "494c58c8",
   "metadata": {},
   "source": [
    "<p dir=rtl style=\"direction: rtl; text-align: justify; line-height:200%; font-family:vazir; font-size:medium\">\n",
    "<font face=\"vazir\" size=3>\n",
    "مقادیر Unknown را باید مدیریت کرد و در آینده به آن می پردازیم\n",
    "</font>\n",
    "</p>"
   ]
  },
  {
   "cell_type": "markdown",
   "id": "b113303e",
   "metadata": {},
   "source": [
    "<p dir=rtl style=\"direction: rtl; text-align: justify; line-height:200%; font-family:vazir; font-size:medium\">\n",
    "<font face=\"vazir\" size=3>\n",
    "متغیر بعدی که باید در نظر گرفت card_category می باشد. ابتدا مقادیری که می تواند بگیرد را بررسی می کنیم\n",
    "</font>\n",
    "</p>\n"
   ]
  },
  {
   "cell_type": "code",
   "id": "b5c5d0c7ecb524cd",
   "metadata": {
    "ExecuteTime": {
     "end_time": "2024-05-27T20:20:21.439237Z",
     "start_time": "2024-05-27T20:20:21.424290Z"
    }
   },
   "source": [
    "data['Card_Category'].unique()"
   ],
   "outputs": [
    {
     "data": {
      "text/plain": [
       "array(['Blue', nan, 'Gold', 'Silver', 'Platinum'], dtype=object)"
      ]
     },
     "execution_count": 11,
     "metadata": {},
     "output_type": "execute_result"
    }
   ],
   "execution_count": 11
  },
  {
   "cell_type": "markdown",
   "id": "8bca8feb",
   "metadata": {},
   "source": [
    "<p dir=rtl style=\"direction: rtl; text-align: justify; line-height:200%; font-family:vazir; font-size:medium\">\n",
    "<font face=\"vazir\" size=3>\n",
    "حال می توانیم با پر کردن مقادیر آن به وسیله مد، آنها را پر کنیم.\n",
    "</font>\n",
    "</p>\n"
   ]
  },
  {
   "cell_type": "code",
   "id": "1591349c51c8b5e3",
   "metadata": {
    "ExecuteTime": {
     "end_time": "2024-05-27T20:20:21.454445Z",
     "start_time": "2024-05-27T20:20:21.439237Z"
    }
   },
   "source": [
    "mode_Card_Category = data['Card_Category'].mode()[0]\n",
    "data['Card_Category'].fillna(mode_Card_Category, inplace=True)"
   ],
   "outputs": [],
   "execution_count": 12
  },
  {
   "cell_type": "code",
   "id": "a315bb7aed8e7f98",
   "metadata": {
    "ExecuteTime": {
     "end_time": "2024-05-27T20:20:21.469756Z",
     "start_time": "2024-05-27T20:20:21.456841Z"
    }
   },
   "source": [
    "mode_Total_Relationship_Count = data['Total_Relationship_Count'].mode().iloc[0]\n",
    "data['Total_Relationship_Count'] = data['Total_Relationship_Count'].fillna(mode_Total_Relationship_Count)"
   ],
   "outputs": [],
   "execution_count": 13
  },
  {
   "metadata": {
    "ExecuteTime": {
     "end_time": "2024-05-27T20:20:21.485785Z",
     "start_time": "2024-05-27T20:20:21.471443Z"
    }
   },
   "cell_type": "code",
   "source": [
    "mode_Months_on_book = data['Months_on_book'].mode().iloc[0]\n",
    "data['Months_on_book'] = data['Months_on_book'].fillna(mode_Months_on_book)"
   ],
   "id": "8704c0abc3c8d0d4",
   "outputs": [],
   "execution_count": 14
  },
  {
   "cell_type": "markdown",
   "id": "ebc96d2e",
   "metadata": {},
   "source": [
    "<p dir=rtl style=\"direction: rtl; text-align: justify; line-height:200%; font-family:vazir; font-size:medium\">\n",
    "<font face=\"vazir\" size=3>\n",
    "حال، به عوض کردن مقادیر unknown با مد هریک از ویژگی ها می پردازیم.\n",
    "</font>\n",
    "</p>\n"
   ]
  },
  {
   "cell_type": "code",
   "id": "9e51cd5699798589",
   "metadata": {
    "ExecuteTime": {
     "end_time": "2024-05-27T20:20:21.505813Z",
     "start_time": "2024-05-27T20:20:21.488165Z"
    }
   },
   "source": [
    "# Calculate the mode (most frequent category) of the \"Gender\" column\n",
    "mode_Education_Level = data['Education_Level'].mode().iloc[0]\n",
    "\n",
    "data['Education_Level'] = data['Education_Level'].replace('Unknown', mode_Education_Level)"
   ],
   "outputs": [],
   "execution_count": 15
  },
  {
   "cell_type": "code",
   "id": "7a80cc0517d90303",
   "metadata": {
    "ExecuteTime": {
     "end_time": "2024-05-27T20:20:21.521860Z",
     "start_time": "2024-05-27T20:20:21.505813Z"
    }
   },
   "source": [
    "count = np.count_nonzero(data['Income_Category'] == 'Unknown')\n",
    "\n",
    "print(f\"Count of values in Column Income_Category: {count}\")    "
   ],
   "outputs": [
    {
     "name": "stdout",
     "output_type": "stream",
     "text": [
      "Count of values in Column Income_Category: 1122\n"
     ]
    }
   ],
   "execution_count": 16
  },
  {
   "cell_type": "code",
   "id": "c1159a229f0f4e44",
   "metadata": {
    "ExecuteTime": {
     "end_time": "2024-05-27T20:20:21.537895Z",
     "start_time": "2024-05-27T20:20:21.524826Z"
    }
   },
   "source": [
    "# Calculate the mode (most frequent category) of the \"Gender\" column\n",
    "mode_Income_Category = data['Income_Category'].mode().iloc[0]\n",
    "\n",
    "data['Income_Category'] = data['Income_Category'].replace('Unknown', mode_Income_Category)"
   ],
   "outputs": [],
   "execution_count": 17
  },
  {
   "cell_type": "markdown",
   "id": "a1bfe417",
   "metadata": {},
   "source": [
    "<p dir=rtl style=\"direction: rtl; text-align: justify; line-height:200%; font-family:vazir; font-size:medium\">\n",
    "<font face=\"vazir\" size=3>\n",
    "می توانیم تغییرات ایجاد شده را مشاهده کنیم\n",
    "</font>\n",
    "</p>"
   ]
  },
  {
   "cell_type": "code",
   "id": "66abcd0283eb71ab",
   "metadata": {
    "ExecuteTime": {
     "end_time": "2024-05-27T20:20:21.600430Z",
     "start_time": "2024-05-27T20:20:21.543220Z"
    }
   },
   "source": [
    "data.isnull().sum()"
   ],
   "outputs": [
    {
     "data": {
      "text/plain": [
       "Customer_Age                0\n",
       "Gender                      0\n",
       "Dependent_count             0\n",
       "Education_Level             0\n",
       "Marital_Status              0\n",
       "Income_Category             0\n",
       "Card_Category               0\n",
       "Months_on_book              0\n",
       "Total_Relationship_Count    0\n",
       "Months_Inactive_12_mon      0\n",
       "Contacts_Count_12_mon       0\n",
       "Credit_Limit                0\n",
       "Total_Revolving_Bal         0\n",
       "Total_Amt_Chng_Q4_Q1        0\n",
       "Total_Trans_Amt             0\n",
       "Total_Trans_Ct              0\n",
       "Total_Ct_Chng_Q4_Q1         0\n",
       "Avg_Utilization_Ratio       0\n",
       "dtype: int64"
      ]
     },
     "execution_count": 18,
     "metadata": {},
     "output_type": "execute_result"
    }
   ],
   "execution_count": 18
  },
  {
   "cell_type": "markdown",
   "id": "c603030f4c603168",
   "metadata": {},
   "source": [
    "<h2 align=right style=\"line-height:200%;font-family:vazir;color:#0099cc\">\n",
    "<font face=\"vazir\" color=\"#0099cc\">\n",
    "داده های دسته ای\n",
    "</font>\n",
    "</h2>\n",
    "\n",
    "<p dir=rtl style=\"direction: rtl; text-align: justify; line-height:200%; font-family:vazir; font-size:medium\">\n",
    "<font face=\"vazir\" size=3>\n",
    "نیاز است داده های دسته ای که به دو صورت اسمی و ترتیبی می باشند را با الگوریتم های مناسب به متغیر هایی عددی تبدیل کنیم. تفاوت این دو در آنجاست که در داده های اسمی، تنها اسم ها فرق می کنند و نمیتوانیم در بزرگی یک مقدار بر دیگری نظر دهیم. اما در متغیر های ترتیبی، می توانیم اینکار را با انتصاب مقادیر دلخواه ایجاد کنیم.\n",
    "</font>\n",
    "</p>"
   ]
  },
  {
   "cell_type": "code",
   "id": "a1f7e677653deb12",
   "metadata": {
    "ExecuteTime": {
     "end_time": "2024-05-27T20:20:21.651434Z",
     "start_time": "2024-05-27T20:20:21.605518Z"
    }
   },
   "source": [
    "data.info()"
   ],
   "outputs": [
    {
     "name": "stdout",
     "output_type": "stream",
     "text": [
      "<class 'pandas.core.frame.DataFrame'>\n",
      "RangeIndex: 10167 entries, 0 to 10166\n",
      "Data columns (total 18 columns):\n",
      " #   Column                    Non-Null Count  Dtype  \n",
      "---  ------                    --------------  -----  \n",
      " 0   Customer_Age              10167 non-null  float64\n",
      " 1   Gender                    10167 non-null  object \n",
      " 2   Dependent_count           10167 non-null  int64  \n",
      " 3   Education_Level           10167 non-null  object \n",
      " 4   Marital_Status            10167 non-null  object \n",
      " 5   Income_Category           10167 non-null  object \n",
      " 6   Card_Category             10167 non-null  object \n",
      " 7   Months_on_book            10167 non-null  float64\n",
      " 8   Total_Relationship_Count  10167 non-null  float64\n",
      " 9   Months_Inactive_12_mon    10167 non-null  int64  \n",
      " 10  Contacts_Count_12_mon     10167 non-null  int64  \n",
      " 11  Credit_Limit              10167 non-null  float64\n",
      " 12  Total_Revolving_Bal       10167 non-null  int64  \n",
      " 13  Total_Amt_Chng_Q4_Q1      10167 non-null  float64\n",
      " 14  Total_Trans_Amt           10167 non-null  int64  \n",
      " 15  Total_Trans_Ct            10167 non-null  int64  \n",
      " 16  Total_Ct_Chng_Q4_Q1       10167 non-null  float64\n",
      " 17  Avg_Utilization_Ratio     10167 non-null  float64\n",
      "dtypes: float64(7), int64(6), object(5)\n",
      "memory usage: 1.4+ MB\n"
     ]
    }
   ],
   "execution_count": 19
  },
  {
   "cell_type": "markdown",
   "id": "a459a75a",
   "metadata": {},
   "source": [
    "<p dir=rtl style=\"direction: rtl; text-align: justify; line-height:200%; font-family:vazir; font-size:medium\">\n",
    "<font face=\"vazir\" size=3>\n",
    "مشاهده می شود که مقادیر زیادی از این دیتافریم عددی نیستند(object)\n",
    "</font>\n",
    "</p>"
   ]
  },
  {
   "cell_type": "code",
   "id": "8fbc88c57034d763",
   "metadata": {
    "ExecuteTime": {
     "end_time": "2024-05-27T20:20:21.904554Z",
     "start_time": "2024-05-27T20:20:21.656629Z"
    }
   },
   "source": [
    "data.describe()"
   ],
   "outputs": [
    {
     "data": {
      "text/plain": [
       "       Customer_Age  Dependent_count  Months_on_book  \\\n",
       "count  10167.000000     10167.000000    10167.000000   \n",
       "mean      46.753817         2.346513       35.915314   \n",
       "std       13.520505         1.298701        7.892102   \n",
       "min       26.000000         0.000000       13.000000   \n",
       "25%       41.000000         1.000000       32.000000   \n",
       "50%       46.000000         2.000000       36.000000   \n",
       "75%       52.000000         3.000000       40.000000   \n",
       "max      352.330517         5.000000       56.000000   \n",
       "\n",
       "       Total_Relationship_Count  Months_Inactive_12_mon  \\\n",
       "count              10167.000000            10167.000000   \n",
       "mean                   3.811646                2.341595   \n",
       "std                    1.553629                1.010502   \n",
       "min                    1.000000                0.000000   \n",
       "25%                    3.000000                2.000000   \n",
       "50%                    4.000000                2.000000   \n",
       "75%                    5.000000                3.000000   \n",
       "max                    6.000000                6.000000   \n",
       "\n",
       "       Contacts_Count_12_mon  Credit_Limit  Total_Revolving_Bal  \\\n",
       "count           10167.000000  10167.000000         10167.000000   \n",
       "mean                2.455887   8632.552346          1162.176748   \n",
       "std                 1.105580   9087.333842           815.082643   \n",
       "min                 0.000000   1438.300000             0.000000   \n",
       "25%                 2.000000   2556.500000           348.500000   \n",
       "50%                 2.000000   4549.000000          1276.000000   \n",
       "75%                 3.000000  11067.500000          1783.000000   \n",
       "max                 6.000000  34516.000000          2517.000000   \n",
       "\n",
       "       Total_Amt_Chng_Q4_Q1  Total_Trans_Amt  Total_Trans_Ct  \\\n",
       "count          10167.000000     10167.000000    10167.000000   \n",
       "mean               0.759721      4402.349661       64.864463   \n",
       "std                0.219054      3393.953441       23.461680   \n",
       "min                0.000000       510.000000       10.000000   \n",
       "25%                0.631000      2155.500000       45.000000   \n",
       "50%                0.736000      3900.000000       67.000000   \n",
       "75%                0.859000      4740.000000       81.000000   \n",
       "max                3.397000     18484.000000      139.000000   \n",
       "\n",
       "       Total_Ct_Chng_Q4_Q1  Avg_Utilization_Ratio  \n",
       "count         10167.000000           10167.000000  \n",
       "mean              0.712192               0.274716  \n",
       "std               0.237934               0.275638  \n",
       "min               0.000000               0.000000  \n",
       "25%               0.582000               0.022000  \n",
       "50%               0.702000               0.175000  \n",
       "75%               0.818000               0.502500  \n",
       "max               3.714000               0.999000  "
      ],
      "text/html": [
       "<div>\n",
       "<style scoped>\n",
       "    .dataframe tbody tr th:only-of-type {\n",
       "        vertical-align: middle;\n",
       "    }\n",
       "\n",
       "    .dataframe tbody tr th {\n",
       "        vertical-align: top;\n",
       "    }\n",
       "\n",
       "    .dataframe thead th {\n",
       "        text-align: right;\n",
       "    }\n",
       "</style>\n",
       "<table border=\"1\" class=\"dataframe\">\n",
       "  <thead>\n",
       "    <tr style=\"text-align: right;\">\n",
       "      <th></th>\n",
       "      <th>Customer_Age</th>\n",
       "      <th>Dependent_count</th>\n",
       "      <th>Months_on_book</th>\n",
       "      <th>Total_Relationship_Count</th>\n",
       "      <th>Months_Inactive_12_mon</th>\n",
       "      <th>Contacts_Count_12_mon</th>\n",
       "      <th>Credit_Limit</th>\n",
       "      <th>Total_Revolving_Bal</th>\n",
       "      <th>Total_Amt_Chng_Q4_Q1</th>\n",
       "      <th>Total_Trans_Amt</th>\n",
       "      <th>Total_Trans_Ct</th>\n",
       "      <th>Total_Ct_Chng_Q4_Q1</th>\n",
       "      <th>Avg_Utilization_Ratio</th>\n",
       "    </tr>\n",
       "  </thead>\n",
       "  <tbody>\n",
       "    <tr>\n",
       "      <th>count</th>\n",
       "      <td>10167.000000</td>\n",
       "      <td>10167.000000</td>\n",
       "      <td>10167.000000</td>\n",
       "      <td>10167.000000</td>\n",
       "      <td>10167.000000</td>\n",
       "      <td>10167.000000</td>\n",
       "      <td>10167.000000</td>\n",
       "      <td>10167.000000</td>\n",
       "      <td>10167.000000</td>\n",
       "      <td>10167.000000</td>\n",
       "      <td>10167.000000</td>\n",
       "      <td>10167.000000</td>\n",
       "      <td>10167.000000</td>\n",
       "    </tr>\n",
       "    <tr>\n",
       "      <th>mean</th>\n",
       "      <td>46.753817</td>\n",
       "      <td>2.346513</td>\n",
       "      <td>35.915314</td>\n",
       "      <td>3.811646</td>\n",
       "      <td>2.341595</td>\n",
       "      <td>2.455887</td>\n",
       "      <td>8632.552346</td>\n",
       "      <td>1162.176748</td>\n",
       "      <td>0.759721</td>\n",
       "      <td>4402.349661</td>\n",
       "      <td>64.864463</td>\n",
       "      <td>0.712192</td>\n",
       "      <td>0.274716</td>\n",
       "    </tr>\n",
       "    <tr>\n",
       "      <th>std</th>\n",
       "      <td>13.520505</td>\n",
       "      <td>1.298701</td>\n",
       "      <td>7.892102</td>\n",
       "      <td>1.553629</td>\n",
       "      <td>1.010502</td>\n",
       "      <td>1.105580</td>\n",
       "      <td>9087.333842</td>\n",
       "      <td>815.082643</td>\n",
       "      <td>0.219054</td>\n",
       "      <td>3393.953441</td>\n",
       "      <td>23.461680</td>\n",
       "      <td>0.237934</td>\n",
       "      <td>0.275638</td>\n",
       "    </tr>\n",
       "    <tr>\n",
       "      <th>min</th>\n",
       "      <td>26.000000</td>\n",
       "      <td>0.000000</td>\n",
       "      <td>13.000000</td>\n",
       "      <td>1.000000</td>\n",
       "      <td>0.000000</td>\n",
       "      <td>0.000000</td>\n",
       "      <td>1438.300000</td>\n",
       "      <td>0.000000</td>\n",
       "      <td>0.000000</td>\n",
       "      <td>510.000000</td>\n",
       "      <td>10.000000</td>\n",
       "      <td>0.000000</td>\n",
       "      <td>0.000000</td>\n",
       "    </tr>\n",
       "    <tr>\n",
       "      <th>25%</th>\n",
       "      <td>41.000000</td>\n",
       "      <td>1.000000</td>\n",
       "      <td>32.000000</td>\n",
       "      <td>3.000000</td>\n",
       "      <td>2.000000</td>\n",
       "      <td>2.000000</td>\n",
       "      <td>2556.500000</td>\n",
       "      <td>348.500000</td>\n",
       "      <td>0.631000</td>\n",
       "      <td>2155.500000</td>\n",
       "      <td>45.000000</td>\n",
       "      <td>0.582000</td>\n",
       "      <td>0.022000</td>\n",
       "    </tr>\n",
       "    <tr>\n",
       "      <th>50%</th>\n",
       "      <td>46.000000</td>\n",
       "      <td>2.000000</td>\n",
       "      <td>36.000000</td>\n",
       "      <td>4.000000</td>\n",
       "      <td>2.000000</td>\n",
       "      <td>2.000000</td>\n",
       "      <td>4549.000000</td>\n",
       "      <td>1276.000000</td>\n",
       "      <td>0.736000</td>\n",
       "      <td>3900.000000</td>\n",
       "      <td>67.000000</td>\n",
       "      <td>0.702000</td>\n",
       "      <td>0.175000</td>\n",
       "    </tr>\n",
       "    <tr>\n",
       "      <th>75%</th>\n",
       "      <td>52.000000</td>\n",
       "      <td>3.000000</td>\n",
       "      <td>40.000000</td>\n",
       "      <td>5.000000</td>\n",
       "      <td>3.000000</td>\n",
       "      <td>3.000000</td>\n",
       "      <td>11067.500000</td>\n",
       "      <td>1783.000000</td>\n",
       "      <td>0.859000</td>\n",
       "      <td>4740.000000</td>\n",
       "      <td>81.000000</td>\n",
       "      <td>0.818000</td>\n",
       "      <td>0.502500</td>\n",
       "    </tr>\n",
       "    <tr>\n",
       "      <th>max</th>\n",
       "      <td>352.330517</td>\n",
       "      <td>5.000000</td>\n",
       "      <td>56.000000</td>\n",
       "      <td>6.000000</td>\n",
       "      <td>6.000000</td>\n",
       "      <td>6.000000</td>\n",
       "      <td>34516.000000</td>\n",
       "      <td>2517.000000</td>\n",
       "      <td>3.397000</td>\n",
       "      <td>18484.000000</td>\n",
       "      <td>139.000000</td>\n",
       "      <td>3.714000</td>\n",
       "      <td>0.999000</td>\n",
       "    </tr>\n",
       "  </tbody>\n",
       "</table>\n",
       "</div>"
      ]
     },
     "execution_count": 20,
     "metadata": {},
     "output_type": "execute_result"
    }
   ],
   "execution_count": 20
  },
  {
   "cell_type": "markdown",
   "id": "9a50e59c",
   "metadata": {},
   "source": [
    "<p dir=rtl style=\"direction: rtl; text-align: justify; line-height:200%; font-family:vazir; font-size:medium\">\n",
    "<font face=\"vazir\" size=3>\n",
    "ابتدا مقادیری که کلاس اسمی gender می تواند بگیرد را در نظر می گیریم. در اینجا، این کلاس تنها می تواند 2 مقدار داشته باشد. می توان با استفاده از دستور get_dummies() این داده را به روش one-hot-encoding به متغیری قابل تحلیل کرد برای Marital_Status هم به همین شکل.\n",
    "</font>\n",
    "</p>"
   ]
  },
  {
   "cell_type": "code",
   "id": "49a6edca0ec19268",
   "metadata": {
    "ExecuteTime": {
     "end_time": "2024-05-27T20:20:21.919889Z",
     "start_time": "2024-05-27T20:20:21.906741Z"
    }
   },
   "source": [
    "data['Gender'].unique()"
   ],
   "outputs": [
    {
     "data": {
      "text/plain": [
       "array(['M', 'F'], dtype=object)"
      ]
     },
     "execution_count": 21,
     "metadata": {},
     "output_type": "execute_result"
    }
   ],
   "execution_count": 21
  },
  {
   "cell_type": "code",
   "id": "eb2513a1",
   "metadata": {
    "ExecuteTime": {
     "end_time": "2024-05-27T20:20:21.935566Z",
     "start_time": "2024-05-27T20:20:21.923185Z"
    }
   },
   "source": [
    "data['Marital_Status'].unique()"
   ],
   "outputs": [
    {
     "data": {
      "text/plain": [
       "array(['Married', 'Unknown', 'Single', 'Divorced'], dtype=object)"
      ]
     },
     "execution_count": 22,
     "metadata": {},
     "output_type": "execute_result"
    }
   ],
   "execution_count": 22
  },
  {
   "cell_type": "code",
   "id": "5667fa5c2785f9f3",
   "metadata": {
    "ExecuteTime": {
     "end_time": "2024-05-27T20:20:21.967036Z",
     "start_time": "2024-05-27T20:20:21.935566Z"
    }
   },
   "source": [
    "data = pd.get_dummies(columns=['Gender','Marital_Status'], data=data)"
   ],
   "outputs": [],
   "execution_count": 23
  },
  {
   "cell_type": "markdown",
   "id": "005185c9",
   "metadata": {},
   "source": [
    "<p dir=rtl style=\"direction: rtl; text-align: justify; line-height:200%; font-family:vazir; font-size:medium\">\n",
    "<font face=\"vazir\" size=3>\n",
    "برای کلاس Educational_Levelو باقی کلاس های بعدی، به دلیل وجود ماهیتی ترتیبی بین آنها می توانیم آن ها را با استفاده از map به مقادیری دلخواه انتصاب دهیم\n",
    "</font>\n",
    "</p>"
   ]
  },
  {
   "cell_type": "code",
   "id": "6d634a44f132c3c4",
   "metadata": {
    "ExecuteTime": {
     "end_time": "2024-05-27T20:20:21.983058Z",
     "start_time": "2024-05-27T20:20:21.969661Z"
    }
   },
   "source": [
    "for column in ['Education_Level']:\n",
    "    print(data[column].unique().__str__())"
   ],
   "outputs": [
    {
     "name": "stdout",
     "output_type": "stream",
     "text": [
      "['High School' 'Graduate' 'Uneducated' 'College' 'Post-Graduate'\n",
      " 'Doctorate']\n"
     ]
    }
   ],
   "execution_count": 24
  },
  {
   "cell_type": "code",
   "id": "aa75891cf6655df8",
   "metadata": {
    "ExecuteTime": {
     "end_time": "2024-05-27T20:20:22.019426Z",
     "start_time": "2024-05-27T20:20:21.984259Z"
    }
   },
   "source": [
    "for column in ['Income_Category']:\n",
    "    print(data[column].unique().__str__())"
   ],
   "outputs": [
    {
     "name": "stdout",
     "output_type": "stream",
     "text": [
      "['$60K - $80K' 'Less than $40K' '$80K - $120K' '$40K - $60K' '$120K +']\n"
     ]
    }
   ],
   "execution_count": 25
  },
  {
   "cell_type": "code",
   "id": "894b392d0305fac1",
   "metadata": {
    "ExecuteTime": {
     "end_time": "2024-05-27T20:20:22.051310Z",
     "start_time": "2024-05-27T20:20:22.024229Z"
    }
   },
   "source": [
    "for column in ['Card_Category']:\n",
    "    print(data[column].unique().__str__())"
   ],
   "outputs": [
    {
     "name": "stdout",
     "output_type": "stream",
     "text": [
      "['Blue' 'Gold' 'Silver' 'Platinum']\n"
     ]
    }
   ],
   "execution_count": 26
  },
  {
   "cell_type": "code",
   "id": "83db9e42b0d5d9d3",
   "metadata": {
    "ExecuteTime": {
     "end_time": "2024-05-27T20:20:22.067343Z",
     "start_time": "2024-05-27T20:20:22.054532Z"
    }
   },
   "source": [
    "Education_Level_map = {'High School': 1, 'Graduate': 3, 'Uneducated': 0,  'College': 2, 'Post-Graduate': 4,\n",
    " 'Doctorate': 5}\n",
    "data['Education_Level'] = data['Education_Level'].map(Education_Level_map)"
   ],
   "outputs": [],
   "execution_count": 27
  },
  {
   "cell_type": "code",
   "id": "ab33154ea259eb25",
   "metadata": {
    "ExecuteTime": {
     "end_time": "2024-05-27T20:20:22.098484Z",
     "start_time": "2024-05-27T20:20:22.079331Z"
    }
   },
   "source": [
    "Income_Category_map = {'$60K - $80K': 2, 'Less than $40K': 0, '$80K - $120K': 3, '$40K - $60K': 1, '$120K +': 4}\n",
    "data['Income_Category'] = data['Income_Category'].map(Income_Category_map)"
   ],
   "outputs": [],
   "execution_count": 28
  },
  {
   "cell_type": "code",
   "id": "c88b91f841a61938",
   "metadata": {
    "ExecuteTime": {
     "end_time": "2024-05-27T20:20:22.114160Z",
     "start_time": "2024-05-27T20:20:22.102368Z"
    }
   },
   "source": [
    "Card_Category_map = {'Blue':0, 'Gold': 2, 'Silver': 3, 'Platinum': 4}\n",
    "data['Card_Category'] = data['Card_Category'].map(Card_Category_map)"
   ],
   "outputs": [],
   "execution_count": 29
  },
  {
   "cell_type": "markdown",
   "id": "99026785",
   "metadata": {},
   "source": [
    "<p dir=rtl style=\"direction: rtl; text-align: justify; line-height:200%; font-family:vazir; font-size:medium\">\n",
    "<font face=\"vazir\" size=3>\n",
    "می توانیم تغییرات را مشاهده کنیم\n",
    "</font>\n",
    "</p>"
   ]
  },
  {
   "cell_type": "code",
   "id": "6bec701a279c3919",
   "metadata": {
    "ExecuteTime": {
     "end_time": "2024-05-27T20:20:22.145811Z",
     "start_time": "2024-05-27T20:20:22.118387Z"
    }
   },
   "source": [
    "data.info()"
   ],
   "outputs": [
    {
     "name": "stdout",
     "output_type": "stream",
     "text": [
      "<class 'pandas.core.frame.DataFrame'>\n",
      "RangeIndex: 10167 entries, 0 to 10166\n",
      "Data columns (total 22 columns):\n",
      " #   Column                    Non-Null Count  Dtype  \n",
      "---  ------                    --------------  -----  \n",
      " 0   Customer_Age              10167 non-null  float64\n",
      " 1   Dependent_count           10167 non-null  int64  \n",
      " 2   Education_Level           10167 non-null  int64  \n",
      " 3   Income_Category           10167 non-null  int64  \n",
      " 4   Card_Category             10167 non-null  int64  \n",
      " 5   Months_on_book            10167 non-null  float64\n",
      " 6   Total_Relationship_Count  10167 non-null  float64\n",
      " 7   Months_Inactive_12_mon    10167 non-null  int64  \n",
      " 8   Contacts_Count_12_mon     10167 non-null  int64  \n",
      " 9   Credit_Limit              10167 non-null  float64\n",
      " 10  Total_Revolving_Bal       10167 non-null  int64  \n",
      " 11  Total_Amt_Chng_Q4_Q1      10167 non-null  float64\n",
      " 12  Total_Trans_Amt           10167 non-null  int64  \n",
      " 13  Total_Trans_Ct            10167 non-null  int64  \n",
      " 14  Total_Ct_Chng_Q4_Q1       10167 non-null  float64\n",
      " 15  Avg_Utilization_Ratio     10167 non-null  float64\n",
      " 16  Gender_F                  10167 non-null  uint8  \n",
      " 17  Gender_M                  10167 non-null  uint8  \n",
      " 18  Marital_Status_Divorced   10167 non-null  uint8  \n",
      " 19  Marital_Status_Married    10167 non-null  uint8  \n",
      " 20  Marital_Status_Single     10167 non-null  uint8  \n",
      " 21  Marital_Status_Unknown    10167 non-null  uint8  \n",
      "dtypes: float64(7), int64(9), uint8(6)\n",
      "memory usage: 1.3 MB\n"
     ]
    }
   ],
   "execution_count": 30
  },
  {
   "cell_type": "markdown",
   "id": "7841ea31",
   "metadata": {},
   "source": [
    "<h2 align=right style=\"line-height:200%;font-family:vazir;color:#0099cc\">\n",
    "<font face=\"vazir\" color=\"#0099cc\">\n",
    "حذف داده های پرت\n",
    "</font>\n",
    "</h2>\n",
    "\n",
    "<p dir=rtl style=\"direction: rtl; text-align: justify; line-height:200%; font-family:vazir; font-size:medium\">\n",
    "<font face=\"vazir\" size=3>\n",
    "با حذف داده های پرت از نوسان مدل در پیشبینی داده های جدید جلوگیری می کنیم. به عنوان مثال، با بررسی بیشترین های ستون Age متوجه می شویم که برخی داده ها مقداری بیش از 300 دارند که طبیعی نمی باشد. پس می توانیم یک بازه منطقی تعیین کرده و مقادیر بیشتر از آن را حذف کنیم.\n",
    "</font>\n",
    "</p>"
   ]
  },
  {
   "cell_type": "code",
   "id": "69af06146f3453b6",
   "metadata": {
    "ExecuteTime": {
     "end_time": "2024-05-27T20:20:22.163391Z",
     "start_time": "2024-05-27T20:20:22.147509Z"
    }
   },
   "source": [
    "limit = 100\n",
    "count = np.count_nonzero(data['Customer_Age'] > limit)\n",
    "\n",
    "print(f\"Count of values greater than {limit} in Column Customer_Age: {count}\")"
   ],
   "outputs": [
    {
     "name": "stdout",
     "output_type": "stream",
     "text": [
      "Count of values greater than 100 in Column Customer_Age: 17\n"
     ]
    }
   ],
   "execution_count": 31
  },
  {
   "cell_type": "code",
   "id": "8678a0e0245428f7",
   "metadata": {
    "ExecuteTime": {
     "end_time": "2024-05-27T20:20:22.179434Z",
     "start_time": "2024-05-27T20:20:22.163391Z"
    }
   },
   "source": [
    "data = data[data['Customer_Age'] < limit]"
   ],
   "outputs": [],
   "execution_count": 32
  },
  {
   "cell_type": "markdown",
   "id": "e1a1f4c9",
   "metadata": {},
   "source": [
    "\n",
    "<p dir=rtl style=\"direction: rtl; text-align: justify; line-height:200%; font-family:vazir; font-size:medium\">\n",
    "<font face=\"vazir\" size=3>\n",
    "با استفاده از دستور describe() می توانیم اطلاعات خوبی از میزان پراکندگی و آماری اطلاعات خود بدست آوریم.\n",
    "</font>\n",
    "</p>"
   ]
  },
  {
   "cell_type": "code",
   "id": "72a627220c29ce7",
   "metadata": {
    "ExecuteTime": {
     "end_time": "2024-05-27T20:20:22.323726Z",
     "start_time": "2024-05-27T20:20:22.179434Z"
    }
   },
   "source": [
    "data.describe()"
   ],
   "outputs": [
    {
     "data": {
      "text/plain": [
       "       Customer_Age  Dependent_count  Education_Level  Income_Category  \\\n",
       "count  10150.000000     10150.000000     10150.000000     10150.000000   \n",
       "mean      46.313498         2.346995         2.201182         1.194680   \n",
       "std        8.013478         1.299017         1.344611         1.346447   \n",
       "min       26.000000         0.000000         0.000000         0.000000   \n",
       "25%       41.000000         1.000000         1.000000         0.000000   \n",
       "50%       46.000000         2.000000         3.000000         1.000000   \n",
       "75%       52.000000         3.000000         3.000000         2.000000   \n",
       "max       73.000000         5.000000         5.000000         4.000000   \n",
       "\n",
       "       Card_Category  Months_on_book  Total_Relationship_Count  \\\n",
       "count   10150.000000    10150.000000              10150.000000   \n",
       "mean        0.162266       35.908670                  3.813103   \n",
       "std         0.669107        7.893432                  1.553539   \n",
       "min         0.000000       13.000000                  1.000000   \n",
       "25%         0.000000       32.000000                  3.000000   \n",
       "50%         0.000000       36.000000                  4.000000   \n",
       "75%         0.000000       40.000000                  5.000000   \n",
       "max         4.000000       56.000000                  6.000000   \n",
       "\n",
       "       Months_Inactive_12_mon  Contacts_Count_12_mon  Credit_Limit  ...  \\\n",
       "count            10150.000000           10150.000000  10150.000000  ...   \n",
       "mean                 2.341576               2.454975   8631.458985  ...   \n",
       "std                  1.009988               1.105122   9085.514675  ...   \n",
       "min                  0.000000               0.000000   1438.300000  ...   \n",
       "25%                  2.000000               2.000000   2556.250000  ...   \n",
       "50%                  2.000000               2.000000   4549.000000  ...   \n",
       "75%                  3.000000               3.000000  11074.750000  ...   \n",
       "max                  6.000000               6.000000  34516.000000  ...   \n",
       "\n",
       "       Total_Trans_Amt  Total_Trans_Ct  Total_Ct_Chng_Q4_Q1  \\\n",
       "count     10150.000000    10150.000000         10150.000000   \n",
       "mean       4401.298719       64.850345             0.712219   \n",
       "std        3394.840406       23.469083             0.238101   \n",
       "min         510.000000       10.000000             0.000000   \n",
       "25%        2154.000000       45.000000             0.582000   \n",
       "50%        3899.000000       67.000000             0.702000   \n",
       "75%        4740.000000       81.000000             0.818000   \n",
       "max       18484.000000      139.000000             3.714000   \n",
       "\n",
       "       Avg_Utilization_Ratio      Gender_F      Gender_M  \\\n",
       "count           10150.000000  10150.000000  10150.000000   \n",
       "mean                0.274726      0.537734      0.462266   \n",
       "std                 0.275619      0.498599      0.498599   \n",
       "min                 0.000000      0.000000      0.000000   \n",
       "25%                 0.022000      0.000000      0.000000   \n",
       "50%                 0.175500      1.000000      0.000000   \n",
       "75%                 0.502000      1.000000      1.000000   \n",
       "max                 0.999000      1.000000      1.000000   \n",
       "\n",
       "       Marital_Status_Divorced  Marital_Status_Married  Marital_Status_Single  \\\n",
       "count             10150.000000            10150.000000           10150.000000   \n",
       "mean                  0.058719                0.566601               0.313596   \n",
       "std                   0.235110                0.495569               0.463977   \n",
       "min                   0.000000                0.000000               0.000000   \n",
       "25%                   0.000000                0.000000               0.000000   \n",
       "50%                   0.000000                1.000000               0.000000   \n",
       "75%                   0.000000                1.000000               1.000000   \n",
       "max                   1.000000                1.000000               1.000000   \n",
       "\n",
       "       Marital_Status_Unknown  \n",
       "count            10150.000000  \n",
       "mean                 0.061084  \n",
       "std                  0.239496  \n",
       "min                  0.000000  \n",
       "25%                  0.000000  \n",
       "50%                  0.000000  \n",
       "75%                  0.000000  \n",
       "max                  1.000000  \n",
       "\n",
       "[8 rows x 22 columns]"
      ],
      "text/html": [
       "<div>\n",
       "<style scoped>\n",
       "    .dataframe tbody tr th:only-of-type {\n",
       "        vertical-align: middle;\n",
       "    }\n",
       "\n",
       "    .dataframe tbody tr th {\n",
       "        vertical-align: top;\n",
       "    }\n",
       "\n",
       "    .dataframe thead th {\n",
       "        text-align: right;\n",
       "    }\n",
       "</style>\n",
       "<table border=\"1\" class=\"dataframe\">\n",
       "  <thead>\n",
       "    <tr style=\"text-align: right;\">\n",
       "      <th></th>\n",
       "      <th>Customer_Age</th>\n",
       "      <th>Dependent_count</th>\n",
       "      <th>Education_Level</th>\n",
       "      <th>Income_Category</th>\n",
       "      <th>Card_Category</th>\n",
       "      <th>Months_on_book</th>\n",
       "      <th>Total_Relationship_Count</th>\n",
       "      <th>Months_Inactive_12_mon</th>\n",
       "      <th>Contacts_Count_12_mon</th>\n",
       "      <th>Credit_Limit</th>\n",
       "      <th>...</th>\n",
       "      <th>Total_Trans_Amt</th>\n",
       "      <th>Total_Trans_Ct</th>\n",
       "      <th>Total_Ct_Chng_Q4_Q1</th>\n",
       "      <th>Avg_Utilization_Ratio</th>\n",
       "      <th>Gender_F</th>\n",
       "      <th>Gender_M</th>\n",
       "      <th>Marital_Status_Divorced</th>\n",
       "      <th>Marital_Status_Married</th>\n",
       "      <th>Marital_Status_Single</th>\n",
       "      <th>Marital_Status_Unknown</th>\n",
       "    </tr>\n",
       "  </thead>\n",
       "  <tbody>\n",
       "    <tr>\n",
       "      <th>count</th>\n",
       "      <td>10150.000000</td>\n",
       "      <td>10150.000000</td>\n",
       "      <td>10150.000000</td>\n",
       "      <td>10150.000000</td>\n",
       "      <td>10150.000000</td>\n",
       "      <td>10150.000000</td>\n",
       "      <td>10150.000000</td>\n",
       "      <td>10150.000000</td>\n",
       "      <td>10150.000000</td>\n",
       "      <td>10150.000000</td>\n",
       "      <td>...</td>\n",
       "      <td>10150.000000</td>\n",
       "      <td>10150.000000</td>\n",
       "      <td>10150.000000</td>\n",
       "      <td>10150.000000</td>\n",
       "      <td>10150.000000</td>\n",
       "      <td>10150.000000</td>\n",
       "      <td>10150.000000</td>\n",
       "      <td>10150.000000</td>\n",
       "      <td>10150.000000</td>\n",
       "      <td>10150.000000</td>\n",
       "    </tr>\n",
       "    <tr>\n",
       "      <th>mean</th>\n",
       "      <td>46.313498</td>\n",
       "      <td>2.346995</td>\n",
       "      <td>2.201182</td>\n",
       "      <td>1.194680</td>\n",
       "      <td>0.162266</td>\n",
       "      <td>35.908670</td>\n",
       "      <td>3.813103</td>\n",
       "      <td>2.341576</td>\n",
       "      <td>2.454975</td>\n",
       "      <td>8631.458985</td>\n",
       "      <td>...</td>\n",
       "      <td>4401.298719</td>\n",
       "      <td>64.850345</td>\n",
       "      <td>0.712219</td>\n",
       "      <td>0.274726</td>\n",
       "      <td>0.537734</td>\n",
       "      <td>0.462266</td>\n",
       "      <td>0.058719</td>\n",
       "      <td>0.566601</td>\n",
       "      <td>0.313596</td>\n",
       "      <td>0.061084</td>\n",
       "    </tr>\n",
       "    <tr>\n",
       "      <th>std</th>\n",
       "      <td>8.013478</td>\n",
       "      <td>1.299017</td>\n",
       "      <td>1.344611</td>\n",
       "      <td>1.346447</td>\n",
       "      <td>0.669107</td>\n",
       "      <td>7.893432</td>\n",
       "      <td>1.553539</td>\n",
       "      <td>1.009988</td>\n",
       "      <td>1.105122</td>\n",
       "      <td>9085.514675</td>\n",
       "      <td>...</td>\n",
       "      <td>3394.840406</td>\n",
       "      <td>23.469083</td>\n",
       "      <td>0.238101</td>\n",
       "      <td>0.275619</td>\n",
       "      <td>0.498599</td>\n",
       "      <td>0.498599</td>\n",
       "      <td>0.235110</td>\n",
       "      <td>0.495569</td>\n",
       "      <td>0.463977</td>\n",
       "      <td>0.239496</td>\n",
       "    </tr>\n",
       "    <tr>\n",
       "      <th>min</th>\n",
       "      <td>26.000000</td>\n",
       "      <td>0.000000</td>\n",
       "      <td>0.000000</td>\n",
       "      <td>0.000000</td>\n",
       "      <td>0.000000</td>\n",
       "      <td>13.000000</td>\n",
       "      <td>1.000000</td>\n",
       "      <td>0.000000</td>\n",
       "      <td>0.000000</td>\n",
       "      <td>1438.300000</td>\n",
       "      <td>...</td>\n",
       "      <td>510.000000</td>\n",
       "      <td>10.000000</td>\n",
       "      <td>0.000000</td>\n",
       "      <td>0.000000</td>\n",
       "      <td>0.000000</td>\n",
       "      <td>0.000000</td>\n",
       "      <td>0.000000</td>\n",
       "      <td>0.000000</td>\n",
       "      <td>0.000000</td>\n",
       "      <td>0.000000</td>\n",
       "    </tr>\n",
       "    <tr>\n",
       "      <th>25%</th>\n",
       "      <td>41.000000</td>\n",
       "      <td>1.000000</td>\n",
       "      <td>1.000000</td>\n",
       "      <td>0.000000</td>\n",
       "      <td>0.000000</td>\n",
       "      <td>32.000000</td>\n",
       "      <td>3.000000</td>\n",
       "      <td>2.000000</td>\n",
       "      <td>2.000000</td>\n",
       "      <td>2556.250000</td>\n",
       "      <td>...</td>\n",
       "      <td>2154.000000</td>\n",
       "      <td>45.000000</td>\n",
       "      <td>0.582000</td>\n",
       "      <td>0.022000</td>\n",
       "      <td>0.000000</td>\n",
       "      <td>0.000000</td>\n",
       "      <td>0.000000</td>\n",
       "      <td>0.000000</td>\n",
       "      <td>0.000000</td>\n",
       "      <td>0.000000</td>\n",
       "    </tr>\n",
       "    <tr>\n",
       "      <th>50%</th>\n",
       "      <td>46.000000</td>\n",
       "      <td>2.000000</td>\n",
       "      <td>3.000000</td>\n",
       "      <td>1.000000</td>\n",
       "      <td>0.000000</td>\n",
       "      <td>36.000000</td>\n",
       "      <td>4.000000</td>\n",
       "      <td>2.000000</td>\n",
       "      <td>2.000000</td>\n",
       "      <td>4549.000000</td>\n",
       "      <td>...</td>\n",
       "      <td>3899.000000</td>\n",
       "      <td>67.000000</td>\n",
       "      <td>0.702000</td>\n",
       "      <td>0.175500</td>\n",
       "      <td>1.000000</td>\n",
       "      <td>0.000000</td>\n",
       "      <td>0.000000</td>\n",
       "      <td>1.000000</td>\n",
       "      <td>0.000000</td>\n",
       "      <td>0.000000</td>\n",
       "    </tr>\n",
       "    <tr>\n",
       "      <th>75%</th>\n",
       "      <td>52.000000</td>\n",
       "      <td>3.000000</td>\n",
       "      <td>3.000000</td>\n",
       "      <td>2.000000</td>\n",
       "      <td>0.000000</td>\n",
       "      <td>40.000000</td>\n",
       "      <td>5.000000</td>\n",
       "      <td>3.000000</td>\n",
       "      <td>3.000000</td>\n",
       "      <td>11074.750000</td>\n",
       "      <td>...</td>\n",
       "      <td>4740.000000</td>\n",
       "      <td>81.000000</td>\n",
       "      <td>0.818000</td>\n",
       "      <td>0.502000</td>\n",
       "      <td>1.000000</td>\n",
       "      <td>1.000000</td>\n",
       "      <td>0.000000</td>\n",
       "      <td>1.000000</td>\n",
       "      <td>1.000000</td>\n",
       "      <td>0.000000</td>\n",
       "    </tr>\n",
       "    <tr>\n",
       "      <th>max</th>\n",
       "      <td>73.000000</td>\n",
       "      <td>5.000000</td>\n",
       "      <td>5.000000</td>\n",
       "      <td>4.000000</td>\n",
       "      <td>4.000000</td>\n",
       "      <td>56.000000</td>\n",
       "      <td>6.000000</td>\n",
       "      <td>6.000000</td>\n",
       "      <td>6.000000</td>\n",
       "      <td>34516.000000</td>\n",
       "      <td>...</td>\n",
       "      <td>18484.000000</td>\n",
       "      <td>139.000000</td>\n",
       "      <td>3.714000</td>\n",
       "      <td>0.999000</td>\n",
       "      <td>1.000000</td>\n",
       "      <td>1.000000</td>\n",
       "      <td>1.000000</td>\n",
       "      <td>1.000000</td>\n",
       "      <td>1.000000</td>\n",
       "      <td>1.000000</td>\n",
       "    </tr>\n",
       "  </tbody>\n",
       "</table>\n",
       "<p>8 rows × 22 columns</p>\n",
       "</div>"
      ]
     },
     "execution_count": 33,
     "metadata": {},
     "output_type": "execute_result"
    }
   ],
   "execution_count": 33
  },
  {
   "cell_type": "markdown",
   "id": "14d3027d79336d62",
   "metadata": {},
   "source": [
    "<p dir=rtl style=\"direction: rtl; text-align: justify; line-height:200%; font-family:vazir; font-size:medium\">\n",
    "<font face=\"vazir\" size=3>\n",
    "با مشاهده این جدول و تست کردن مقادیر مختلف با معیار IQR، مشاهده می شود که این دو ویژگی حاوی مقادیری پرت بوده و آنها را تا حدودی مشخص نگه می داریم\n",
    "</font>\n",
    "</p>"
   ]
  },
  {
   "cell_type": "code",
   "id": "b0ab8c4c59ecc4d2",
   "metadata": {
    "ExecuteTime": {
     "end_time": "2024-05-27T20:20:22.479198Z",
     "start_time": "2024-05-27T20:20:22.324821Z"
    }
   },
   "source": [
    "import pandas as pd\n",
    "\n",
    "# Assuming you have a DataFrame 'df' with columns 'feature1', 'feature2', and 'feature3'\n",
    "# Calculate IQR for each column\n",
    "\n",
    "for column in data.columns:\n",
    "    #'Months_on_book' #'Card_Category'\n",
    "    Q1 = data[column].quantile(0.25)\n",
    "    Q3 = data[column].quantile(0.75)\n",
    "    IQR = Q3 - Q1\n",
    "    \n",
    "    # Define the outlier boundaries for each column\n",
    "    lower_bound = Q1 - 1.5 * IQR\n",
    "    upper_bound = Q3 + 1.5 * IQR\n",
    "    \n",
    "    # Remove outliers for each column\n",
    "    data = data[(data[column] >= lower_bound) & (data[column] <= upper_bound)]\n",
    "    # Now 'filtered_df' contains the data without outliers for the specified columns\n",
    "data.describe()\n"
   ],
   "outputs": [
    {
     "data": {
      "text/plain": [
       "       Customer_Age  Dependent_count  Education_Level  Income_Category  \\\n",
       "count   5630.000000      5630.000000      5630.000000      5630.000000   \n",
       "mean      46.567851         2.398224         2.204796         0.988632   \n",
       "std        7.398194         1.268192         1.342082         1.237427   \n",
       "min       26.000000         0.000000         0.000000         0.000000   \n",
       "25%       41.000000         1.000000         1.000000         0.000000   \n",
       "50%       47.000000         2.000000         3.000000         0.000000   \n",
       "75%       52.000000         3.000000         3.000000         2.000000   \n",
       "max       68.000000         5.000000         5.000000         4.000000   \n",
       "\n",
       "       Card_Category  Months_on_book  Total_Relationship_Count  \\\n",
       "count         5630.0     5630.000000               5630.000000   \n",
       "mean             0.0       36.105684                  3.941208   \n",
       "std              0.0        6.649915                  1.505809   \n",
       "min              0.0       20.000000                  1.000000   \n",
       "25%              0.0       32.000000                  3.000000   \n",
       "50%              0.0       36.000000                  4.000000   \n",
       "75%              0.0       40.000000                  5.000000   \n",
       "max              0.0       52.000000                  6.000000   \n",
       "\n",
       "       Months_Inactive_12_mon  Contacts_Count_12_mon  Credit_Limit  ...  \\\n",
       "count             5630.000000            5630.000000   5630.000000  ...   \n",
       "mean                 2.280284               2.498757   5237.605595  ...   \n",
       "std                  0.861703               0.931429   4247.804710  ...   \n",
       "min                  1.000000               1.000000   1438.300000  ...   \n",
       "25%                  2.000000               2.000000   2267.250000  ...   \n",
       "50%                  2.000000               3.000000   3367.500000  ...   \n",
       "75%                  3.000000               3.000000   6970.000000  ...   \n",
       "max                  4.000000               4.000000  20001.000000  ...   \n",
       "\n",
       "       Total_Trans_Amt  Total_Trans_Ct  Total_Ct_Chng_Q4_Q1  \\\n",
       "count      5630.000000     5630.000000          5630.000000   \n",
       "mean       3554.098401       62.562700             0.687895   \n",
       "std        1558.304741       19.595951             0.182489   \n",
       "min         510.000000       10.000000             0.207000   \n",
       "25%        2170.000000       45.000000             0.569000   \n",
       "50%        3879.000000       67.000000             0.689000   \n",
       "75%        4568.000000       79.000000             0.809000   \n",
       "max        8444.000000      113.000000             1.182000   \n",
       "\n",
       "       Avg_Utilization_Ratio     Gender_F     Gender_M  \\\n",
       "count            5630.000000  5630.000000  5630.000000   \n",
       "mean                0.318601     0.613321     0.386679   \n",
       "std                 0.285100     0.487032     0.487032   \n",
       "min                 0.000000     0.000000     0.000000   \n",
       "25%                 0.000000     0.000000     0.000000   \n",
       "50%                 0.257000     1.000000     0.000000   \n",
       "75%                 0.567750     1.000000     1.000000   \n",
       "max                 0.995000     1.000000     1.000000   \n",
       "\n",
       "       Marital_Status_Divorced  Marital_Status_Married  Marital_Status_Single  \\\n",
       "count                   5630.0             5630.000000            5630.000000   \n",
       "mean                       0.0                0.644227               0.355773   \n",
       "std                        0.0                0.478789               0.478789   \n",
       "min                        0.0                0.000000               0.000000   \n",
       "25%                        0.0                0.000000               0.000000   \n",
       "50%                        0.0                1.000000               0.000000   \n",
       "75%                        0.0                1.000000               1.000000   \n",
       "max                        0.0                1.000000               1.000000   \n",
       "\n",
       "       Marital_Status_Unknown  \n",
       "count                  5630.0  \n",
       "mean                      0.0  \n",
       "std                       0.0  \n",
       "min                       0.0  \n",
       "25%                       0.0  \n",
       "50%                       0.0  \n",
       "75%                       0.0  \n",
       "max                       0.0  \n",
       "\n",
       "[8 rows x 22 columns]"
      ],
      "text/html": [
       "<div>\n",
       "<style scoped>\n",
       "    .dataframe tbody tr th:only-of-type {\n",
       "        vertical-align: middle;\n",
       "    }\n",
       "\n",
       "    .dataframe tbody tr th {\n",
       "        vertical-align: top;\n",
       "    }\n",
       "\n",
       "    .dataframe thead th {\n",
       "        text-align: right;\n",
       "    }\n",
       "</style>\n",
       "<table border=\"1\" class=\"dataframe\">\n",
       "  <thead>\n",
       "    <tr style=\"text-align: right;\">\n",
       "      <th></th>\n",
       "      <th>Customer_Age</th>\n",
       "      <th>Dependent_count</th>\n",
       "      <th>Education_Level</th>\n",
       "      <th>Income_Category</th>\n",
       "      <th>Card_Category</th>\n",
       "      <th>Months_on_book</th>\n",
       "      <th>Total_Relationship_Count</th>\n",
       "      <th>Months_Inactive_12_mon</th>\n",
       "      <th>Contacts_Count_12_mon</th>\n",
       "      <th>Credit_Limit</th>\n",
       "      <th>...</th>\n",
       "      <th>Total_Trans_Amt</th>\n",
       "      <th>Total_Trans_Ct</th>\n",
       "      <th>Total_Ct_Chng_Q4_Q1</th>\n",
       "      <th>Avg_Utilization_Ratio</th>\n",
       "      <th>Gender_F</th>\n",
       "      <th>Gender_M</th>\n",
       "      <th>Marital_Status_Divorced</th>\n",
       "      <th>Marital_Status_Married</th>\n",
       "      <th>Marital_Status_Single</th>\n",
       "      <th>Marital_Status_Unknown</th>\n",
       "    </tr>\n",
       "  </thead>\n",
       "  <tbody>\n",
       "    <tr>\n",
       "      <th>count</th>\n",
       "      <td>5630.000000</td>\n",
       "      <td>5630.000000</td>\n",
       "      <td>5630.000000</td>\n",
       "      <td>5630.000000</td>\n",
       "      <td>5630.0</td>\n",
       "      <td>5630.000000</td>\n",
       "      <td>5630.000000</td>\n",
       "      <td>5630.000000</td>\n",
       "      <td>5630.000000</td>\n",
       "      <td>5630.000000</td>\n",
       "      <td>...</td>\n",
       "      <td>5630.000000</td>\n",
       "      <td>5630.000000</td>\n",
       "      <td>5630.000000</td>\n",
       "      <td>5630.000000</td>\n",
       "      <td>5630.000000</td>\n",
       "      <td>5630.000000</td>\n",
       "      <td>5630.0</td>\n",
       "      <td>5630.000000</td>\n",
       "      <td>5630.000000</td>\n",
       "      <td>5630.0</td>\n",
       "    </tr>\n",
       "    <tr>\n",
       "      <th>mean</th>\n",
       "      <td>46.567851</td>\n",
       "      <td>2.398224</td>\n",
       "      <td>2.204796</td>\n",
       "      <td>0.988632</td>\n",
       "      <td>0.0</td>\n",
       "      <td>36.105684</td>\n",
       "      <td>3.941208</td>\n",
       "      <td>2.280284</td>\n",
       "      <td>2.498757</td>\n",
       "      <td>5237.605595</td>\n",
       "      <td>...</td>\n",
       "      <td>3554.098401</td>\n",
       "      <td>62.562700</td>\n",
       "      <td>0.687895</td>\n",
       "      <td>0.318601</td>\n",
       "      <td>0.613321</td>\n",
       "      <td>0.386679</td>\n",
       "      <td>0.0</td>\n",
       "      <td>0.644227</td>\n",
       "      <td>0.355773</td>\n",
       "      <td>0.0</td>\n",
       "    </tr>\n",
       "    <tr>\n",
       "      <th>std</th>\n",
       "      <td>7.398194</td>\n",
       "      <td>1.268192</td>\n",
       "      <td>1.342082</td>\n",
       "      <td>1.237427</td>\n",
       "      <td>0.0</td>\n",
       "      <td>6.649915</td>\n",
       "      <td>1.505809</td>\n",
       "      <td>0.861703</td>\n",
       "      <td>0.931429</td>\n",
       "      <td>4247.804710</td>\n",
       "      <td>...</td>\n",
       "      <td>1558.304741</td>\n",
       "      <td>19.595951</td>\n",
       "      <td>0.182489</td>\n",
       "      <td>0.285100</td>\n",
       "      <td>0.487032</td>\n",
       "      <td>0.487032</td>\n",
       "      <td>0.0</td>\n",
       "      <td>0.478789</td>\n",
       "      <td>0.478789</td>\n",
       "      <td>0.0</td>\n",
       "    </tr>\n",
       "    <tr>\n",
       "      <th>min</th>\n",
       "      <td>26.000000</td>\n",
       "      <td>0.000000</td>\n",
       "      <td>0.000000</td>\n",
       "      <td>0.000000</td>\n",
       "      <td>0.0</td>\n",
       "      <td>20.000000</td>\n",
       "      <td>1.000000</td>\n",
       "      <td>1.000000</td>\n",
       "      <td>1.000000</td>\n",
       "      <td>1438.300000</td>\n",
       "      <td>...</td>\n",
       "      <td>510.000000</td>\n",
       "      <td>10.000000</td>\n",
       "      <td>0.207000</td>\n",
       "      <td>0.000000</td>\n",
       "      <td>0.000000</td>\n",
       "      <td>0.000000</td>\n",
       "      <td>0.0</td>\n",
       "      <td>0.000000</td>\n",
       "      <td>0.000000</td>\n",
       "      <td>0.0</td>\n",
       "    </tr>\n",
       "    <tr>\n",
       "      <th>25%</th>\n",
       "      <td>41.000000</td>\n",
       "      <td>1.000000</td>\n",
       "      <td>1.000000</td>\n",
       "      <td>0.000000</td>\n",
       "      <td>0.0</td>\n",
       "      <td>32.000000</td>\n",
       "      <td>3.000000</td>\n",
       "      <td>2.000000</td>\n",
       "      <td>2.000000</td>\n",
       "      <td>2267.250000</td>\n",
       "      <td>...</td>\n",
       "      <td>2170.000000</td>\n",
       "      <td>45.000000</td>\n",
       "      <td>0.569000</td>\n",
       "      <td>0.000000</td>\n",
       "      <td>0.000000</td>\n",
       "      <td>0.000000</td>\n",
       "      <td>0.0</td>\n",
       "      <td>0.000000</td>\n",
       "      <td>0.000000</td>\n",
       "      <td>0.0</td>\n",
       "    </tr>\n",
       "    <tr>\n",
       "      <th>50%</th>\n",
       "      <td>47.000000</td>\n",
       "      <td>2.000000</td>\n",
       "      <td>3.000000</td>\n",
       "      <td>0.000000</td>\n",
       "      <td>0.0</td>\n",
       "      <td>36.000000</td>\n",
       "      <td>4.000000</td>\n",
       "      <td>2.000000</td>\n",
       "      <td>3.000000</td>\n",
       "      <td>3367.500000</td>\n",
       "      <td>...</td>\n",
       "      <td>3879.000000</td>\n",
       "      <td>67.000000</td>\n",
       "      <td>0.689000</td>\n",
       "      <td>0.257000</td>\n",
       "      <td>1.000000</td>\n",
       "      <td>0.000000</td>\n",
       "      <td>0.0</td>\n",
       "      <td>1.000000</td>\n",
       "      <td>0.000000</td>\n",
       "      <td>0.0</td>\n",
       "    </tr>\n",
       "    <tr>\n",
       "      <th>75%</th>\n",
       "      <td>52.000000</td>\n",
       "      <td>3.000000</td>\n",
       "      <td>3.000000</td>\n",
       "      <td>2.000000</td>\n",
       "      <td>0.0</td>\n",
       "      <td>40.000000</td>\n",
       "      <td>5.000000</td>\n",
       "      <td>3.000000</td>\n",
       "      <td>3.000000</td>\n",
       "      <td>6970.000000</td>\n",
       "      <td>...</td>\n",
       "      <td>4568.000000</td>\n",
       "      <td>79.000000</td>\n",
       "      <td>0.809000</td>\n",
       "      <td>0.567750</td>\n",
       "      <td>1.000000</td>\n",
       "      <td>1.000000</td>\n",
       "      <td>0.0</td>\n",
       "      <td>1.000000</td>\n",
       "      <td>1.000000</td>\n",
       "      <td>0.0</td>\n",
       "    </tr>\n",
       "    <tr>\n",
       "      <th>max</th>\n",
       "      <td>68.000000</td>\n",
       "      <td>5.000000</td>\n",
       "      <td>5.000000</td>\n",
       "      <td>4.000000</td>\n",
       "      <td>0.0</td>\n",
       "      <td>52.000000</td>\n",
       "      <td>6.000000</td>\n",
       "      <td>4.000000</td>\n",
       "      <td>4.000000</td>\n",
       "      <td>20001.000000</td>\n",
       "      <td>...</td>\n",
       "      <td>8444.000000</td>\n",
       "      <td>113.000000</td>\n",
       "      <td>1.182000</td>\n",
       "      <td>0.995000</td>\n",
       "      <td>1.000000</td>\n",
       "      <td>1.000000</td>\n",
       "      <td>0.0</td>\n",
       "      <td>1.000000</td>\n",
       "      <td>1.000000</td>\n",
       "      <td>0.0</td>\n",
       "    </tr>\n",
       "  </tbody>\n",
       "</table>\n",
       "<p>8 rows × 22 columns</p>\n",
       "</div>"
      ]
     },
     "execution_count": 34,
     "metadata": {},
     "output_type": "execute_result"
    }
   ],
   "execution_count": 34
  },
  {
   "cell_type": "markdown",
   "id": "1f75bdd445b09d2c",
   "metadata": {},
   "source": [
    "<h2 align=right style=\"line-height:200%;font-family:vazir;color:#0099cc\">\n",
    "<font face=\"vazir\" color=\"#0099cc\">\n",
    "نرمالسازی و استاندارد کردن داده ها\n",
    "</font>\n",
    "</h2>\n",
    "\n",
    "<p dir=rtl style=\"direction: rtl; text-align: justify; line-height:200%; font-family:vazir; font-size:medium\">\n",
    "<font face=\"vazir\" size=3>\n",
    "پیش از ساخت مدل و برای کم کردن نویز و همگام سازی داده ها، نیاز داریم داده های خود را به وسیله معیاری نرمال کنیم. البته قبل از آن لازم است ستون لیبل را از داده ها حذف کنیم.\n",
    "</font>\n",
    "</p>"
   ]
  },
  {
   "cell_type": "code",
   "id": "3af8447188b7f186",
   "metadata": {
    "ExecuteTime": {
     "end_time": "2024-05-27T20:20:22.495280Z",
     "start_time": "2024-05-27T20:20:22.480245Z"
    }
   },
   "source": [
    "y = data['Credit_Limit']\n",
    "data.drop(columns = ['Credit_Limit'], inplace = True)\n"
   ],
   "outputs": [],
   "execution_count": 35
  },
  {
   "cell_type": "markdown",
   "id": "d57c0eae",
   "metadata": {},
   "source": [
    "<p dir=rtl style=\"direction: rtl; text-align: justify; line-height:200%; font-family:vazir; font-size:medium\">\n",
    "<font face=\"vazir\" size=3>یک راه مرسوم در نرمال سازی داده ها را برای انجام این عمل به شکل زیر پیاده سازی می کنیم\n",
    "</font>\n",
    "</p>"
   ]
  },
  {
   "cell_type": "markdown",
   "id": "246d64f3",
   "metadata": {},
   "source": [
    "<p dir=rtl style=\"direction: rtl; text-align: justify; line-height:200%; font-family:vazir; font-size:medium\">\n",
    "<font face=\"vazir\" size=3>\n",
    "حال تغییرات انجام شده را بررسی می کنیم.\n",
    "</font>\n",
    "</p>"
   ]
  },
  {
   "cell_type": "code",
   "id": "44644558877ba829",
   "metadata": {
    "ExecuteTime": {
     "end_time": "2024-05-27T20:20:22.590385Z",
     "start_time": "2024-05-27T20:20:22.495280Z"
    }
   },
   "source": [
    "data.describe()"
   ],
   "outputs": [
    {
     "data": {
      "text/plain": [
       "       Customer_Age  Dependent_count  Education_Level  Income_Category  \\\n",
       "count   5630.000000      5630.000000      5630.000000      5630.000000   \n",
       "mean      46.567851         2.398224         2.204796         0.988632   \n",
       "std        7.398194         1.268192         1.342082         1.237427   \n",
       "min       26.000000         0.000000         0.000000         0.000000   \n",
       "25%       41.000000         1.000000         1.000000         0.000000   \n",
       "50%       47.000000         2.000000         3.000000         0.000000   \n",
       "75%       52.000000         3.000000         3.000000         2.000000   \n",
       "max       68.000000         5.000000         5.000000         4.000000   \n",
       "\n",
       "       Card_Category  Months_on_book  Total_Relationship_Count  \\\n",
       "count         5630.0     5630.000000               5630.000000   \n",
       "mean             0.0       36.105684                  3.941208   \n",
       "std              0.0        6.649915                  1.505809   \n",
       "min              0.0       20.000000                  1.000000   \n",
       "25%              0.0       32.000000                  3.000000   \n",
       "50%              0.0       36.000000                  4.000000   \n",
       "75%              0.0       40.000000                  5.000000   \n",
       "max              0.0       52.000000                  6.000000   \n",
       "\n",
       "       Months_Inactive_12_mon  Contacts_Count_12_mon  Total_Revolving_Bal  \\\n",
       "count             5630.000000            5630.000000          5630.000000   \n",
       "mean                 2.280284               2.498757          1130.122380   \n",
       "std                  0.861703               0.931429           818.578598   \n",
       "min                  1.000000               1.000000             0.000000   \n",
       "25%                  2.000000               2.000000             0.000000   \n",
       "50%                  2.000000               3.000000          1234.000000   \n",
       "75%                  3.000000               3.000000          1759.000000   \n",
       "max                  4.000000               4.000000          2517.000000   \n",
       "\n",
       "       ...  Total_Trans_Amt  Total_Trans_Ct  Total_Ct_Chng_Q4_Q1  \\\n",
       "count  ...      5630.000000     5630.000000          5630.000000   \n",
       "mean   ...      3554.098401       62.562700             0.687895   \n",
       "std    ...      1558.304741       19.595951             0.182489   \n",
       "min    ...       510.000000       10.000000             0.207000   \n",
       "25%    ...      2170.000000       45.000000             0.569000   \n",
       "50%    ...      3879.000000       67.000000             0.689000   \n",
       "75%    ...      4568.000000       79.000000             0.809000   \n",
       "max    ...      8444.000000      113.000000             1.182000   \n",
       "\n",
       "       Avg_Utilization_Ratio     Gender_F     Gender_M  \\\n",
       "count            5630.000000  5630.000000  5630.000000   \n",
       "mean                0.318601     0.613321     0.386679   \n",
       "std                 0.285100     0.487032     0.487032   \n",
       "min                 0.000000     0.000000     0.000000   \n",
       "25%                 0.000000     0.000000     0.000000   \n",
       "50%                 0.257000     1.000000     0.000000   \n",
       "75%                 0.567750     1.000000     1.000000   \n",
       "max                 0.995000     1.000000     1.000000   \n",
       "\n",
       "       Marital_Status_Divorced  Marital_Status_Married  Marital_Status_Single  \\\n",
       "count                   5630.0             5630.000000            5630.000000   \n",
       "mean                       0.0                0.644227               0.355773   \n",
       "std                        0.0                0.478789               0.478789   \n",
       "min                        0.0                0.000000               0.000000   \n",
       "25%                        0.0                0.000000               0.000000   \n",
       "50%                        0.0                1.000000               0.000000   \n",
       "75%                        0.0                1.000000               1.000000   \n",
       "max                        0.0                1.000000               1.000000   \n",
       "\n",
       "       Marital_Status_Unknown  \n",
       "count                  5630.0  \n",
       "mean                      0.0  \n",
       "std                       0.0  \n",
       "min                       0.0  \n",
       "25%                       0.0  \n",
       "50%                       0.0  \n",
       "75%                       0.0  \n",
       "max                       0.0  \n",
       "\n",
       "[8 rows x 21 columns]"
      ],
      "text/html": [
       "<div>\n",
       "<style scoped>\n",
       "    .dataframe tbody tr th:only-of-type {\n",
       "        vertical-align: middle;\n",
       "    }\n",
       "\n",
       "    .dataframe tbody tr th {\n",
       "        vertical-align: top;\n",
       "    }\n",
       "\n",
       "    .dataframe thead th {\n",
       "        text-align: right;\n",
       "    }\n",
       "</style>\n",
       "<table border=\"1\" class=\"dataframe\">\n",
       "  <thead>\n",
       "    <tr style=\"text-align: right;\">\n",
       "      <th></th>\n",
       "      <th>Customer_Age</th>\n",
       "      <th>Dependent_count</th>\n",
       "      <th>Education_Level</th>\n",
       "      <th>Income_Category</th>\n",
       "      <th>Card_Category</th>\n",
       "      <th>Months_on_book</th>\n",
       "      <th>Total_Relationship_Count</th>\n",
       "      <th>Months_Inactive_12_mon</th>\n",
       "      <th>Contacts_Count_12_mon</th>\n",
       "      <th>Total_Revolving_Bal</th>\n",
       "      <th>...</th>\n",
       "      <th>Total_Trans_Amt</th>\n",
       "      <th>Total_Trans_Ct</th>\n",
       "      <th>Total_Ct_Chng_Q4_Q1</th>\n",
       "      <th>Avg_Utilization_Ratio</th>\n",
       "      <th>Gender_F</th>\n",
       "      <th>Gender_M</th>\n",
       "      <th>Marital_Status_Divorced</th>\n",
       "      <th>Marital_Status_Married</th>\n",
       "      <th>Marital_Status_Single</th>\n",
       "      <th>Marital_Status_Unknown</th>\n",
       "    </tr>\n",
       "  </thead>\n",
       "  <tbody>\n",
       "    <tr>\n",
       "      <th>count</th>\n",
       "      <td>5630.000000</td>\n",
       "      <td>5630.000000</td>\n",
       "      <td>5630.000000</td>\n",
       "      <td>5630.000000</td>\n",
       "      <td>5630.0</td>\n",
       "      <td>5630.000000</td>\n",
       "      <td>5630.000000</td>\n",
       "      <td>5630.000000</td>\n",
       "      <td>5630.000000</td>\n",
       "      <td>5630.000000</td>\n",
       "      <td>...</td>\n",
       "      <td>5630.000000</td>\n",
       "      <td>5630.000000</td>\n",
       "      <td>5630.000000</td>\n",
       "      <td>5630.000000</td>\n",
       "      <td>5630.000000</td>\n",
       "      <td>5630.000000</td>\n",
       "      <td>5630.0</td>\n",
       "      <td>5630.000000</td>\n",
       "      <td>5630.000000</td>\n",
       "      <td>5630.0</td>\n",
       "    </tr>\n",
       "    <tr>\n",
       "      <th>mean</th>\n",
       "      <td>46.567851</td>\n",
       "      <td>2.398224</td>\n",
       "      <td>2.204796</td>\n",
       "      <td>0.988632</td>\n",
       "      <td>0.0</td>\n",
       "      <td>36.105684</td>\n",
       "      <td>3.941208</td>\n",
       "      <td>2.280284</td>\n",
       "      <td>2.498757</td>\n",
       "      <td>1130.122380</td>\n",
       "      <td>...</td>\n",
       "      <td>3554.098401</td>\n",
       "      <td>62.562700</td>\n",
       "      <td>0.687895</td>\n",
       "      <td>0.318601</td>\n",
       "      <td>0.613321</td>\n",
       "      <td>0.386679</td>\n",
       "      <td>0.0</td>\n",
       "      <td>0.644227</td>\n",
       "      <td>0.355773</td>\n",
       "      <td>0.0</td>\n",
       "    </tr>\n",
       "    <tr>\n",
       "      <th>std</th>\n",
       "      <td>7.398194</td>\n",
       "      <td>1.268192</td>\n",
       "      <td>1.342082</td>\n",
       "      <td>1.237427</td>\n",
       "      <td>0.0</td>\n",
       "      <td>6.649915</td>\n",
       "      <td>1.505809</td>\n",
       "      <td>0.861703</td>\n",
       "      <td>0.931429</td>\n",
       "      <td>818.578598</td>\n",
       "      <td>...</td>\n",
       "      <td>1558.304741</td>\n",
       "      <td>19.595951</td>\n",
       "      <td>0.182489</td>\n",
       "      <td>0.285100</td>\n",
       "      <td>0.487032</td>\n",
       "      <td>0.487032</td>\n",
       "      <td>0.0</td>\n",
       "      <td>0.478789</td>\n",
       "      <td>0.478789</td>\n",
       "      <td>0.0</td>\n",
       "    </tr>\n",
       "    <tr>\n",
       "      <th>min</th>\n",
       "      <td>26.000000</td>\n",
       "      <td>0.000000</td>\n",
       "      <td>0.000000</td>\n",
       "      <td>0.000000</td>\n",
       "      <td>0.0</td>\n",
       "      <td>20.000000</td>\n",
       "      <td>1.000000</td>\n",
       "      <td>1.000000</td>\n",
       "      <td>1.000000</td>\n",
       "      <td>0.000000</td>\n",
       "      <td>...</td>\n",
       "      <td>510.000000</td>\n",
       "      <td>10.000000</td>\n",
       "      <td>0.207000</td>\n",
       "      <td>0.000000</td>\n",
       "      <td>0.000000</td>\n",
       "      <td>0.000000</td>\n",
       "      <td>0.0</td>\n",
       "      <td>0.000000</td>\n",
       "      <td>0.000000</td>\n",
       "      <td>0.0</td>\n",
       "    </tr>\n",
       "    <tr>\n",
       "      <th>25%</th>\n",
       "      <td>41.000000</td>\n",
       "      <td>1.000000</td>\n",
       "      <td>1.000000</td>\n",
       "      <td>0.000000</td>\n",
       "      <td>0.0</td>\n",
       "      <td>32.000000</td>\n",
       "      <td>3.000000</td>\n",
       "      <td>2.000000</td>\n",
       "      <td>2.000000</td>\n",
       "      <td>0.000000</td>\n",
       "      <td>...</td>\n",
       "      <td>2170.000000</td>\n",
       "      <td>45.000000</td>\n",
       "      <td>0.569000</td>\n",
       "      <td>0.000000</td>\n",
       "      <td>0.000000</td>\n",
       "      <td>0.000000</td>\n",
       "      <td>0.0</td>\n",
       "      <td>0.000000</td>\n",
       "      <td>0.000000</td>\n",
       "      <td>0.0</td>\n",
       "    </tr>\n",
       "    <tr>\n",
       "      <th>50%</th>\n",
       "      <td>47.000000</td>\n",
       "      <td>2.000000</td>\n",
       "      <td>3.000000</td>\n",
       "      <td>0.000000</td>\n",
       "      <td>0.0</td>\n",
       "      <td>36.000000</td>\n",
       "      <td>4.000000</td>\n",
       "      <td>2.000000</td>\n",
       "      <td>3.000000</td>\n",
       "      <td>1234.000000</td>\n",
       "      <td>...</td>\n",
       "      <td>3879.000000</td>\n",
       "      <td>67.000000</td>\n",
       "      <td>0.689000</td>\n",
       "      <td>0.257000</td>\n",
       "      <td>1.000000</td>\n",
       "      <td>0.000000</td>\n",
       "      <td>0.0</td>\n",
       "      <td>1.000000</td>\n",
       "      <td>0.000000</td>\n",
       "      <td>0.0</td>\n",
       "    </tr>\n",
       "    <tr>\n",
       "      <th>75%</th>\n",
       "      <td>52.000000</td>\n",
       "      <td>3.000000</td>\n",
       "      <td>3.000000</td>\n",
       "      <td>2.000000</td>\n",
       "      <td>0.0</td>\n",
       "      <td>40.000000</td>\n",
       "      <td>5.000000</td>\n",
       "      <td>3.000000</td>\n",
       "      <td>3.000000</td>\n",
       "      <td>1759.000000</td>\n",
       "      <td>...</td>\n",
       "      <td>4568.000000</td>\n",
       "      <td>79.000000</td>\n",
       "      <td>0.809000</td>\n",
       "      <td>0.567750</td>\n",
       "      <td>1.000000</td>\n",
       "      <td>1.000000</td>\n",
       "      <td>0.0</td>\n",
       "      <td>1.000000</td>\n",
       "      <td>1.000000</td>\n",
       "      <td>0.0</td>\n",
       "    </tr>\n",
       "    <tr>\n",
       "      <th>max</th>\n",
       "      <td>68.000000</td>\n",
       "      <td>5.000000</td>\n",
       "      <td>5.000000</td>\n",
       "      <td>4.000000</td>\n",
       "      <td>0.0</td>\n",
       "      <td>52.000000</td>\n",
       "      <td>6.000000</td>\n",
       "      <td>4.000000</td>\n",
       "      <td>4.000000</td>\n",
       "      <td>2517.000000</td>\n",
       "      <td>...</td>\n",
       "      <td>8444.000000</td>\n",
       "      <td>113.000000</td>\n",
       "      <td>1.182000</td>\n",
       "      <td>0.995000</td>\n",
       "      <td>1.000000</td>\n",
       "      <td>1.000000</td>\n",
       "      <td>0.0</td>\n",
       "      <td>1.000000</td>\n",
       "      <td>1.000000</td>\n",
       "      <td>0.0</td>\n",
       "    </tr>\n",
       "  </tbody>\n",
       "</table>\n",
       "<p>8 rows × 21 columns</p>\n",
       "</div>"
      ]
     },
     "execution_count": 36,
     "metadata": {},
     "output_type": "execute_result"
    }
   ],
   "execution_count": 36
  },
  {
   "cell_type": "code",
   "id": "77de7495cc87e1e6",
   "metadata": {
    "ExecuteTime": {
     "end_time": "2024-05-27T20:20:22.622486Z",
     "start_time": "2024-05-27T20:20:22.591391Z"
    }
   },
   "source": [
    "data.head()"
   ],
   "outputs": [
    {
     "data": {
      "text/plain": [
       "    Customer_Age  Dependent_count  Education_Level  Income_Category  \\\n",
       "14          57.0                2                3                0   \n",
       "19          45.0                2                3                0   \n",
       "21          62.0                0                3                0   \n",
       "23          47.0                4                3                0   \n",
       "24          54.0                2                3                3   \n",
       "\n",
       "    Card_Category  Months_on_book  Total_Relationship_Count  \\\n",
       "14              0            48.0                       5.0   \n",
       "19              0            37.0                       6.0   \n",
       "21              0            49.0                       2.0   \n",
       "23              0            36.0                       3.0   \n",
       "24              0            42.0                       4.0   \n",
       "\n",
       "    Months_Inactive_12_mon  Contacts_Count_12_mon  Total_Revolving_Bal  ...  \\\n",
       "14                       2                      2                  680  ...   \n",
       "19                       1                      2                 1157  ...   \n",
       "21                       3                      3                    0  ...   \n",
       "23                       3                      2                 1560  ...   \n",
       "24                       2                      3                    0  ...   \n",
       "\n",
       "    Total_Trans_Amt  Total_Trans_Ct  Total_Ct_Chng_Q4_Q1  \\\n",
       "14             1570              29                0.611   \n",
       "19             1207              21                0.909   \n",
       "21              692              16                0.600   \n",
       "23             1126              23                0.353   \n",
       "24             1110              21                0.750   \n",
       "\n",
       "    Avg_Utilization_Ratio  Gender_F  Gender_M  Marital_Status_Divorced  \\\n",
       "14                  0.279         1         0                        0   \n",
       "19                  0.080         1         0                        0   \n",
       "21                  0.000         1         0                        0   \n",
       "23                  0.626         1         0                        0   \n",
       "24                  0.000         0         1                        0   \n",
       "\n",
       "    Marital_Status_Married  Marital_Status_Single  Marital_Status_Unknown  \n",
       "14                       1                      0                       0  \n",
       "19                       1                      0                       0  \n",
       "21                       1                      0                       0  \n",
       "23                       1                      0                       0  \n",
       "24                       1                      0                       0  \n",
       "\n",
       "[5 rows x 21 columns]"
      ],
      "text/html": [
       "<div>\n",
       "<style scoped>\n",
       "    .dataframe tbody tr th:only-of-type {\n",
       "        vertical-align: middle;\n",
       "    }\n",
       "\n",
       "    .dataframe tbody tr th {\n",
       "        vertical-align: top;\n",
       "    }\n",
       "\n",
       "    .dataframe thead th {\n",
       "        text-align: right;\n",
       "    }\n",
       "</style>\n",
       "<table border=\"1\" class=\"dataframe\">\n",
       "  <thead>\n",
       "    <tr style=\"text-align: right;\">\n",
       "      <th></th>\n",
       "      <th>Customer_Age</th>\n",
       "      <th>Dependent_count</th>\n",
       "      <th>Education_Level</th>\n",
       "      <th>Income_Category</th>\n",
       "      <th>Card_Category</th>\n",
       "      <th>Months_on_book</th>\n",
       "      <th>Total_Relationship_Count</th>\n",
       "      <th>Months_Inactive_12_mon</th>\n",
       "      <th>Contacts_Count_12_mon</th>\n",
       "      <th>Total_Revolving_Bal</th>\n",
       "      <th>...</th>\n",
       "      <th>Total_Trans_Amt</th>\n",
       "      <th>Total_Trans_Ct</th>\n",
       "      <th>Total_Ct_Chng_Q4_Q1</th>\n",
       "      <th>Avg_Utilization_Ratio</th>\n",
       "      <th>Gender_F</th>\n",
       "      <th>Gender_M</th>\n",
       "      <th>Marital_Status_Divorced</th>\n",
       "      <th>Marital_Status_Married</th>\n",
       "      <th>Marital_Status_Single</th>\n",
       "      <th>Marital_Status_Unknown</th>\n",
       "    </tr>\n",
       "  </thead>\n",
       "  <tbody>\n",
       "    <tr>\n",
       "      <th>14</th>\n",
       "      <td>57.0</td>\n",
       "      <td>2</td>\n",
       "      <td>3</td>\n",
       "      <td>0</td>\n",
       "      <td>0</td>\n",
       "      <td>48.0</td>\n",
       "      <td>5.0</td>\n",
       "      <td>2</td>\n",
       "      <td>2</td>\n",
       "      <td>680</td>\n",
       "      <td>...</td>\n",
       "      <td>1570</td>\n",
       "      <td>29</td>\n",
       "      <td>0.611</td>\n",
       "      <td>0.279</td>\n",
       "      <td>1</td>\n",
       "      <td>0</td>\n",
       "      <td>0</td>\n",
       "      <td>1</td>\n",
       "      <td>0</td>\n",
       "      <td>0</td>\n",
       "    </tr>\n",
       "    <tr>\n",
       "      <th>19</th>\n",
       "      <td>45.0</td>\n",
       "      <td>2</td>\n",
       "      <td>3</td>\n",
       "      <td>0</td>\n",
       "      <td>0</td>\n",
       "      <td>37.0</td>\n",
       "      <td>6.0</td>\n",
       "      <td>1</td>\n",
       "      <td>2</td>\n",
       "      <td>1157</td>\n",
       "      <td>...</td>\n",
       "      <td>1207</td>\n",
       "      <td>21</td>\n",
       "      <td>0.909</td>\n",
       "      <td>0.080</td>\n",
       "      <td>1</td>\n",
       "      <td>0</td>\n",
       "      <td>0</td>\n",
       "      <td>1</td>\n",
       "      <td>0</td>\n",
       "      <td>0</td>\n",
       "    </tr>\n",
       "    <tr>\n",
       "      <th>21</th>\n",
       "      <td>62.0</td>\n",
       "      <td>0</td>\n",
       "      <td>3</td>\n",
       "      <td>0</td>\n",
       "      <td>0</td>\n",
       "      <td>49.0</td>\n",
       "      <td>2.0</td>\n",
       "      <td>3</td>\n",
       "      <td>3</td>\n",
       "      <td>0</td>\n",
       "      <td>...</td>\n",
       "      <td>692</td>\n",
       "      <td>16</td>\n",
       "      <td>0.600</td>\n",
       "      <td>0.000</td>\n",
       "      <td>1</td>\n",
       "      <td>0</td>\n",
       "      <td>0</td>\n",
       "      <td>1</td>\n",
       "      <td>0</td>\n",
       "      <td>0</td>\n",
       "    </tr>\n",
       "    <tr>\n",
       "      <th>23</th>\n",
       "      <td>47.0</td>\n",
       "      <td>4</td>\n",
       "      <td>3</td>\n",
       "      <td>0</td>\n",
       "      <td>0</td>\n",
       "      <td>36.0</td>\n",
       "      <td>3.0</td>\n",
       "      <td>3</td>\n",
       "      <td>2</td>\n",
       "      <td>1560</td>\n",
       "      <td>...</td>\n",
       "      <td>1126</td>\n",
       "      <td>23</td>\n",
       "      <td>0.353</td>\n",
       "      <td>0.626</td>\n",
       "      <td>1</td>\n",
       "      <td>0</td>\n",
       "      <td>0</td>\n",
       "      <td>1</td>\n",
       "      <td>0</td>\n",
       "      <td>0</td>\n",
       "    </tr>\n",
       "    <tr>\n",
       "      <th>24</th>\n",
       "      <td>54.0</td>\n",
       "      <td>2</td>\n",
       "      <td>3</td>\n",
       "      <td>3</td>\n",
       "      <td>0</td>\n",
       "      <td>42.0</td>\n",
       "      <td>4.0</td>\n",
       "      <td>2</td>\n",
       "      <td>3</td>\n",
       "      <td>0</td>\n",
       "      <td>...</td>\n",
       "      <td>1110</td>\n",
       "      <td>21</td>\n",
       "      <td>0.750</td>\n",
       "      <td>0.000</td>\n",
       "      <td>0</td>\n",
       "      <td>1</td>\n",
       "      <td>0</td>\n",
       "      <td>1</td>\n",
       "      <td>0</td>\n",
       "      <td>0</td>\n",
       "    </tr>\n",
       "  </tbody>\n",
       "</table>\n",
       "<p>5 rows × 21 columns</p>\n",
       "</div>"
      ]
     },
     "execution_count": 37,
     "metadata": {},
     "output_type": "execute_result"
    }
   ],
   "execution_count": 37
  },
  {
   "cell_type": "markdown",
   "id": "81843a38",
   "metadata": {},
   "source": [
    "<h2 align=right style=\"line-height:200%;font-family:vazir;color:#0099cc\">\n",
    "<font face=\"vazir\" color=\"#0099cc\">\n",
    "ساخت مدل\n",
    "</font>\n",
    "</h2>\n",
    "\n",
    "<p dir=rtl style=\"direction: rtl; text-align: justify; line-height:200%; font-family:vazir; font-size:medium\">\n",
    "<font face=\"vazir\" size=3>\n",
    "با اتمام آماده سازی داده ها به سراغ ساخت مدل می رویم. در ابتدا داده های خود را برای انجام عمور آموزش و آزمون به وسیله این دستور از یکدیگر جدا می کنیم. برای آموزش، 80 درصد از داده ها را به صورت شافل شده جدا کرده و آموزش می دهیم.\n",
    "</font>\n",
    "</p>"
   ]
  },
  {
   "cell_type": "code",
   "id": "d7be3c735673e9d9",
   "metadata": {
    "ExecuteTime": {
     "end_time": "2024-05-27T20:20:22.638172Z",
     "start_time": "2024-05-27T20:20:22.623596Z"
    }
   },
   "source": [
    "X_train, X_test, y_train, y_test = train_test_split(data, y, test_size=0.2, shuffle= True)"
   ],
   "outputs": [],
   "execution_count": 38
  },
  {
   "cell_type": "markdown",
   "id": "0c6f6ba3",
   "metadata": {},
   "source": [
    "\n",
    "<p dir=rtl style=\"direction: rtl; text-align: justify; line-height:200%; font-family:vazir; font-size:medium\">\n",
    "<font face=\"vazir\" size=3>\n",
    "به طور خلاصه، دلایل انتخاب RandomForestRegressor برای این مدل عبارتند از:\n",
    "\n",
    "1. **مقاومت در برابر بیش‌برازش**: کاهش واریانس و جلوگیری از بیش‌برازش با تجمیع چندین درخت تصمیم.\n",
    "2. **اهمیت ویژگی‌ها**: ارائه بینش درباره اهمیت هر ویژگی در پیش‌بینی.\n",
    "3. **روابط غیرخطی**: توانایی درک روابط غیرخطی بین ویژگی‌ها و متغیر هدف.\n",
    "4. **مدیریت مقادیر گم‌شده**: مدیریت داخلی مقادیر گم‌شده بدون نیاز به پیش‌پردازش پیچیده.\n",
    "5. **بی‌نیازی به مقیاس‌بندی**: عدم نیاز به مقیاس‌بندی ویژگی‌ها.\n",
    "6. **کنترل بیش‌برازش**: کنترل پیچیدگی مدل با پارامترهایی مانند n_estimators و max_depth.\n",
    "7. **موازی‌سازی**: اجرای موازی الگوریتم و افزایش سرعت آموزش و پیش‌بینی.\n",
    "8. **عمومیت**: عملکرد خوب در تعمیم‌دهی و سازگاری با انواع مختلف داده‌ها و توزیع‌ها.\n",
    "\n",
    "با انجام آزمایش های مختلف، متوجه شدم که این هایپرپارامتر ها می توانند برای این مدل مناسب باشند.\n",
    "</font>\n",
    "</p>"
   ]
  },
  {
   "metadata": {
    "ExecuteTime": {
     "end_time": "2024-05-27T20:20:22.653893Z",
     "start_time": "2024-05-27T20:20:22.639405Z"
    }
   },
   "cell_type": "code",
   "source": [
    "from sklearn.preprocessing import MinMaxScaler\n",
    "\n",
    "scaler = MinMaxScaler()\n",
    "X_train = scaler.fit_transform(X_train)\n",
    "X_test = scaler.transform(X_test)"
   ],
   "id": "8ac059cbe2915180",
   "outputs": [],
   "execution_count": 39
  },
  {
   "cell_type": "code",
   "id": "b0a850fc5598a761",
   "metadata": {
    "ExecuteTime": {
     "end_time": "2024-05-27T20:20:26.743255Z",
     "start_time": "2024-05-27T20:20:22.653893Z"
    }
   },
   "source": [
    "regr = RandomForestRegressor(n_estimators=120, max_depth= 10, random_state=10)\n",
    "regr.fit(X_train, y_train)"
   ],
   "outputs": [
    {
     "data": {
      "text/plain": [
       "RandomForestRegressor(max_depth=10, n_estimators=120, random_state=10)"
      ],
      "text/html": [
       "<style>#sk-container-id-1 {color: black;background-color: white;}#sk-container-id-1 pre{padding: 0;}#sk-container-id-1 div.sk-toggleable {background-color: white;}#sk-container-id-1 label.sk-toggleable__label {cursor: pointer;display: block;width: 100%;margin-bottom: 0;padding: 0.3em;box-sizing: border-box;text-align: center;}#sk-container-id-1 label.sk-toggleable__label-arrow:before {content: \"▸\";float: left;margin-right: 0.25em;color: #696969;}#sk-container-id-1 label.sk-toggleable__label-arrow:hover:before {color: black;}#sk-container-id-1 div.sk-estimator:hover label.sk-toggleable__label-arrow:before {color: black;}#sk-container-id-1 div.sk-toggleable__content {max-height: 0;max-width: 0;overflow: hidden;text-align: left;background-color: #f0f8ff;}#sk-container-id-1 div.sk-toggleable__content pre {margin: 0.2em;color: black;border-radius: 0.25em;background-color: #f0f8ff;}#sk-container-id-1 input.sk-toggleable__control:checked~div.sk-toggleable__content {max-height: 200px;max-width: 100%;overflow: auto;}#sk-container-id-1 input.sk-toggleable__control:checked~label.sk-toggleable__label-arrow:before {content: \"▾\";}#sk-container-id-1 div.sk-estimator input.sk-toggleable__control:checked~label.sk-toggleable__label {background-color: #d4ebff;}#sk-container-id-1 div.sk-label input.sk-toggleable__control:checked~label.sk-toggleable__label {background-color: #d4ebff;}#sk-container-id-1 input.sk-hidden--visually {border: 0;clip: rect(1px 1px 1px 1px);clip: rect(1px, 1px, 1px, 1px);height: 1px;margin: -1px;overflow: hidden;padding: 0;position: absolute;width: 1px;}#sk-container-id-1 div.sk-estimator {font-family: monospace;background-color: #f0f8ff;border: 1px dotted black;border-radius: 0.25em;box-sizing: border-box;margin-bottom: 0.5em;}#sk-container-id-1 div.sk-estimator:hover {background-color: #d4ebff;}#sk-container-id-1 div.sk-parallel-item::after {content: \"\";width: 100%;border-bottom: 1px solid gray;flex-grow: 1;}#sk-container-id-1 div.sk-label:hover label.sk-toggleable__label {background-color: #d4ebff;}#sk-container-id-1 div.sk-serial::before {content: \"\";position: absolute;border-left: 1px solid gray;box-sizing: border-box;top: 0;bottom: 0;left: 50%;z-index: 0;}#sk-container-id-1 div.sk-serial {display: flex;flex-direction: column;align-items: center;background-color: white;padding-right: 0.2em;padding-left: 0.2em;position: relative;}#sk-container-id-1 div.sk-item {position: relative;z-index: 1;}#sk-container-id-1 div.sk-parallel {display: flex;align-items: stretch;justify-content: center;background-color: white;position: relative;}#sk-container-id-1 div.sk-item::before, #sk-container-id-1 div.sk-parallel-item::before {content: \"\";position: absolute;border-left: 1px solid gray;box-sizing: border-box;top: 0;bottom: 0;left: 50%;z-index: -1;}#sk-container-id-1 div.sk-parallel-item {display: flex;flex-direction: column;z-index: 1;position: relative;background-color: white;}#sk-container-id-1 div.sk-parallel-item:first-child::after {align-self: flex-end;width: 50%;}#sk-container-id-1 div.sk-parallel-item:last-child::after {align-self: flex-start;width: 50%;}#sk-container-id-1 div.sk-parallel-item:only-child::after {width: 0;}#sk-container-id-1 div.sk-dashed-wrapped {border: 1px dashed gray;margin: 0 0.4em 0.5em 0.4em;box-sizing: border-box;padding-bottom: 0.4em;background-color: white;}#sk-container-id-1 div.sk-label label {font-family: monospace;font-weight: bold;display: inline-block;line-height: 1.2em;}#sk-container-id-1 div.sk-label-container {text-align: center;}#sk-container-id-1 div.sk-container {/* jupyter's `normalize.less` sets `[hidden] { display: none; }` but bootstrap.min.css set `[hidden] { display: none !important; }` so we also need the `!important` here to be able to override the default hidden behavior on the sphinx rendered scikit-learn.org. See: https://github.com/scikit-learn/scikit-learn/issues/21755 */display: inline-block !important;position: relative;}#sk-container-id-1 div.sk-text-repr-fallback {display: none;}</style><div id=\"sk-container-id-1\" class=\"sk-top-container\"><div class=\"sk-text-repr-fallback\"><pre>RandomForestRegressor(max_depth=10, n_estimators=120, random_state=10)</pre><b>In a Jupyter environment, please rerun this cell to show the HTML representation or trust the notebook. <br />On GitHub, the HTML representation is unable to render, please try loading this page with nbviewer.org.</b></div><div class=\"sk-container\" hidden><div class=\"sk-item\"><div class=\"sk-estimator sk-toggleable\"><input class=\"sk-toggleable__control sk-hidden--visually\" id=\"sk-estimator-id-1\" type=\"checkbox\" checked><label for=\"sk-estimator-id-1\" class=\"sk-toggleable__label sk-toggleable__label-arrow\">RandomForestRegressor</label><div class=\"sk-toggleable__content\"><pre>RandomForestRegressor(max_depth=10, n_estimators=120, random_state=10)</pre></div></div></div></div></div>"
      ]
     },
     "execution_count": 40,
     "metadata": {},
     "output_type": "execute_result"
    }
   ],
   "execution_count": 40
  },
  {
   "cell_type": "markdown",
   "id": "d6a76f8d",
   "metadata": {},
   "source": [
    "<p dir=rtl style=\"direction: rtl; text-align: justify; line-height:200%; font-family:vazir; font-size:medium\">\n",
    "<font face=\"vazir\" size=3>\n",
    "با اتمام آموزش، حال می توانیم مدل را بر روی داده های تست آزمایش کنیم و معیار های خطلای مختلق را روی آن بدست آوریم.\n",
    "</font>\n",
    "</p>"
   ]
  },
  {
   "cell_type": "code",
   "id": "17d307dc96dd3dd4",
   "metadata": {
    "ExecuteTime": {
     "end_time": "2024-05-27T20:20:26.780661Z",
     "start_time": "2024-05-27T20:20:26.745949Z"
    }
   },
   "source": [
    "predicts = regr.predict(X_test)\n",
    "r2 = r2_score(y_test, predicts)\n",
    "print(\"R-squared (R²) Score:\", r2)\n",
    "mse = mean_squared_error(y_test, predicts)\n",
    "print(\"Mean Squared Error:\", mse)"
   ],
   "outputs": [
    {
     "name": "stdout",
     "output_type": "stream",
     "text": [
      "R-squared (R²) Score: 0.7939552968755094\n",
      "Mean Squared Error: 3859137.6357097183\n"
     ]
    }
   ],
   "execution_count": 41
  },
  {
   "cell_type": "markdown",
   "id": "cf0dbd19",
   "metadata": {},
   "source": [
    "<p dir=rtl style=\"direction: rtl; text-align: justify; line-height:200%; font-family:vazir; font-size:medium\">\n",
    "<font face=\"vazir\" size=3>\n",
    "برای درک بصری مدل می توان نموداری بر حسب مقادیر تست و پیشبینی شده ساخت و خط رگرسور را مشاهده کرد.\n",
    "</font>\n",
    "</p>"
   ]
  },
  {
   "cell_type": "code",
   "id": "770200cf297956bd",
   "metadata": {
    "ExecuteTime": {
     "end_time": "2024-05-27T20:20:27.066536Z",
     "start_time": "2024-05-27T20:20:26.783041Z"
    }
   },
   "source": [
    "plt.scatter(y_test, predicts, color='blue', label='Predicted vs. True')\n",
    "plt.plot([min(y_test), max(y_test)], [min(predicts), max(predicts)], color='red', linestyle='--', label='Predicted Line')\n",
    "plt.xlabel('True Values')\n",
    "plt.ylabel('Predictions')\n",
    "plt.title('Predicted vs. True Values')\n",
    "plt.legend()\n",
    "plt.show()\n"
   ],
   "outputs": [
    {
     "data": {
      "text/plain": [
       "<Figure size 640x480 with 1 Axes>"
      ],
      "image/png": "[encoded data removed]"
     },
     "metadata": {},
     "output_type": "display_data"
    }
   ],
   "execution_count": 42
  }
 ],
 "metadata": {
  "kernelspec": {
   "display_name": "Python 3",
   "language": "python",
   "name": "python3"
  },
  "language_info": {
   "codemirror_mode": {
    "name": "ipython",
    "version": 2
   },
   "file_extension": ".py",
   "mimetype": "text/x-python",
   "name": "python",
   "nbconvert_exporter": "python",
   "pygments_lexer": "ipython2",
   "version": "2.7.6"
  }
 },
 "nbformat": 4,
 "nbformat_minor": 5
}
